{
 "cells": [
  {
   "cell_type": "code",
   "execution_count": 2,
   "metadata": {},
   "outputs": [],
   "source": [
    "import numpy as np\n",
    "import pandas as pd \n",
    "import matplotlib.pyplot as plt \n",
    "import seaborn as sns\n",
    "import nltk\n",
    "import string\n",
    "import re\n",
    "from nltk.corpus import stopwords\n",
    "import time\n",
    "from nltk.tokenize import sent_tokenize\n",
    "from nltk.tokenize import word_tokenize\n",
    "from nltk.stem import PorterStemmer\n",
    "from sklearn.model_selection import train_test_split\n",
    "from sklearn.feature_extraction.text import CountVectorizer, TfidfVectorizer\n",
    "from sklearn.linear_model import LogisticRegression\n",
    "from sklearn.metrics import roc_auc_score, f1_score"
   ]
  },
  {
   "cell_type": "code",
   "execution_count": 3,
   "metadata": {},
   "outputs": [
    {
     "data": {
      "application/vnd.microsoft.datawrangler.viewer.v0+json": {
       "columns": [
        {
         "name": "index",
         "rawType": "int64",
         "type": "integer"
        },
        {
         "name": "reviewId",
         "rawType": "object",
         "type": "string"
        },
        {
         "name": "userName",
         "rawType": "object",
         "type": "unknown"
        },
        {
         "name": "content",
         "rawType": "object",
         "type": "unknown"
        },
        {
         "name": "score",
         "rawType": "int64",
         "type": "integer"
        },
        {
         "name": "thumbsUpCount",
         "rawType": "int64",
         "type": "integer"
        },
        {
         "name": "reviewCreatedVersion",
         "rawType": "object",
         "type": "unknown"
        },
        {
         "name": "at",
         "rawType": "object",
         "type": "string"
        },
        {
         "name": "appVersion",
         "rawType": "object",
         "type": "unknown"
        }
       ],
       "conversionMethod": "pd.DataFrame",
       "ref": "d5131137-e378-46b1-8323-4b035333c902",
       "rows": [
        [
         "0",
         "5d12b3ec-f34d-4711-8280-eca2604d559a",
         "Dineo Nickel",
         "please bring back some old shows that got a lot of popularity. also Netflix tends to bring shows that had only 1 amazing season and then the show will never get another season.",
         "4",
         "0",
         "8.115.2 build 6 50688",
         "2024-05-25 22:40:09",
         "8.115.2 build 6 50688"
        ],
        [
         "1",
         "9ae077fb-c2f1-4ee3-8e68-35be80d704a1",
         "Issa tunde",
         "Thank you",
         "5",
         "0",
         "8.112.1 build 6 50665",
         "2024-05-25 22:37:12",
         "8.112.1 build 6 50665"
        ],
        [
         "2",
         "b89f2695-e803-4e9a-a9ec-c6156642d892",
         "pro gamer (Pratham)",
         "geat free games but we wantMinecraft java edition",
         "5",
         "0",
         "8.109.0 build 7 50647",
         "2024-05-25 22:30:33",
         "8.109.0 build 7 50647"
        ],
        [
         "3",
         "687c952f-4b53-43ab-9e8f-bae26ad875d0",
         "Devon Bryant",
         "Won't open on my phone....",
         "1",
         "1",
         "8.115.2 build 6 50688",
         "2024-05-25 22:30:16",
         "8.115.2 build 6 50688"
        ],
        [
         "4",
         "da1f671f-dd67-45e0-8225-575bcd373bed",
         "Liz Gichora",
         "User friendly, helpful.",
         "5",
         "0",
         "8.115.2 build 6 50688",
         "2024-05-25 22:30:11",
         "8.115.2 build 6 50688"
        ],
        [
         "5",
         "20ce6db7-9214-4bf4-be35-34329a4b1125",
         "Evans William",
         "Good",
         "5",
         "0",
         "8.115.2 build 6 50688",
         "2024-05-25 22:26:07",
         "8.115.2 build 6 50688"
        ],
        [
         "6",
         "15bd9b4c-570c-4bb6-aa7d-d6fa61ca1108",
         "Jaycub Grizzle",
         "It's Netflix dawg that's pretty much it 7/10",
         "4",
         "0",
         "8.52.2 build 14 50335",
         "2024-05-25 22:13:59",
         "8.52.2 build 14 50335"
        ],
        [
         "7",
         "c2640719-dfc8-40cd-8d73-134cbbaf71d9",
         "LUCAS Anderson",
         "Removed doctor who like what the sigma all I want is my doctor who like why remove it",
         "1",
         "0",
         "8.115.2 build 6 50688",
         "2024-05-25 22:02:08",
         "8.115.2 build 6 50688"
        ],
        [
         "8",
         "2c8cf3a5-d34a-46aa-855f-371aef68b0c1",
         "Kolawole Jumoke Josephine",
         "It doesn't open and I have data",
         "1",
         "1",
         "8.114.0 build 19 50680",
         "2024-05-25 21:47:56",
         "8.114.0 build 19 50680"
        ],
        [
         "9",
         "c4d3ac1b-1e77-41a1-ad01-92d30ffe8a16",
         "Jap Sandhu",
         "This is best app because there is every thing I want to watch",
         "5",
         "0",
         "8.115.2 build 6 50688",
         "2024-05-25 21:31:06",
         "8.115.2 build 6 50688"
        ],
        [
         "10",
         "21449bf4-bccb-42ed-a52b-0d1ad180da69",
         "I_am_Loris_ 87",
         "I'd give it 0 if i could",
         "1",
         "0",
         "8.114.0 build 19 50680",
         "2024-05-25 21:17:23",
         "8.114.0 build 19 50680"
        ],
        [
         "11",
         "fdc44ab1-5d71-45db-b1c9-58175e143c1b",
         "Harry Potter",
         "I like it!",
         "5",
         "0",
         "8.114.0 build 19 50680",
         "2024-05-25 20:43:45",
         "8.114.0 build 19 50680"
        ],
        [
         "12",
         "f7bd70c1-acaa-44af-b65b-ed07a5362a4f",
         "Jack Ntasha",
         "Delayed content",
         "4",
         "0",
         "8.110.2 build 8 50655",
         "2024-05-25 20:42:43",
         "8.110.2 build 8 50655"
        ],
        [
         "13",
         "3af0df7d-aa9e-480b-8195-2efec8912eed",
         "Dave Joseph",
         "Great 👍 Easy to Use!",
         "5",
         "0",
         "8.115.2 build 6 50688",
         "2024-05-25 20:41:08",
         "8.115.2 build 6 50688"
        ],
        [
         "14",
         "26e2e2f9-075f-4a6a-856a-cf628923eea6",
         "Dylan Smith",
         "Netflix has been around years and still works for my family we only watch Netflix and Disney plus on a family night it is always quick and easy to log in to I would also reccomed horrid Henry for the kids and law and order for the adults when alone!!!!!",
         "5",
         "0",
         "8.115.2 build 6 50688",
         "2024-05-25 20:40:46",
         "8.115.2 build 6 50688"
        ],
        [
         "15",
         "07ac22bd-df56-4189-929d-e9ce18b25f59",
         "Vonq exe",
         "Amazing how it doesn't let me use the tv app on my second tv ♡",
         "1",
         "0",
         "8.112.1 build 6 50665",
         "2024-05-25 20:31:22",
         "8.112.1 build 6 50665"
        ],
        [
         "16",
         "ef2e1851-0adb-442e-9df2-4473b579c2f2",
         "krish verma",
         "App is not working crashing again and again",
         "1",
         "1",
         "8.115.2 build 6 50688",
         "2024-05-25 20:26:52",
         "8.115.2 build 6 50688"
        ],
        [
         "17",
         "2b9c34e0-86f1-4bfb-ad63-83652809cf77",
         "Rakesh Chakraborty",
         "Good",
         "5",
         "0",
         "8.109.0 build 7 50647",
         "2024-05-25 20:11:00",
         "8.109.0 build 7 50647"
        ],
        [
         "18",
         "143413ea-171b-4e7c-ac3f-243789b45a68",
         "YA.Arafat Shinobi",
         "Very cool 😎",
         "5",
         "0",
         "8.115.2 build 6 50688",
         "2024-05-25 20:03:47",
         "8.115.2 build 6 50688"
        ],
        [
         "19",
         "85b6375b-d206-435c-ae48-9f6e462a8d6d",
         "Killys",
         "Whenever i want to use netflix it keeps saying im not part of my family's netflix acc IM DELETING NETFLIX",
         "1",
         "0",
         null,
         "2024-05-25 19:53:39",
         null
        ],
        [
         "20",
         "b13c818f-682e-45e6-b736-adf7cb342688",
         "sohail khan",
         "Poor",
         "5",
         "0",
         "8.55.1 build 8 50347",
         "2024-05-25 19:36:46",
         "8.55.1 build 8 50347"
        ],
        [
         "21",
         "fa078b36-29d6-4cb6-b6e2-946904a2ce91",
         "Liba Ali",
         "Amazing and great",
         "5",
         "0",
         null,
         "2024-05-25 19:33:08",
         null
        ],
        [
         "22",
         "937cd862-9321-4f9a-8a4c-1e3303fbf7a8",
         "Sachi Bang",
         "Can't open my app anymore. Keeps flashing message playing on too many devices. I changed account. Still same.",
         "1",
         "0",
         "8.74.0 build 6 50443",
         "2024-05-25 19:32:58",
         "8.74.0 build 6 50443"
        ],
        [
         "23",
         "3853aaaa-45c0-4884-adab-f3eee6497edf",
         "Arita Manuel",
         "Imagine having no kids profile, but Netflix keeps telling you that as a 30 year old woman, I can't watch Orange is the new Black because im 5 years old, apparently. My maturing rating is sitting at R18, but I can't watch anything past M rating. Looks like I'll be watching Madagascar and leaving this subscription service alone, once my month is up !",
         "1",
         "0",
         "8.115.2 build 6 50688",
         "2024-05-25 19:31:39",
         "8.115.2 build 6 50688"
        ],
        [
         "24",
         "03236bd7-f4e0-4963-bd46-a9614b2600e4",
         "squeakeroo1",
         "Since joining Netflix I keep on getting scam emails and scam phone calls from Netflix.",
         "3",
         "0",
         "8.115.2 build 6 50688",
         "2024-05-25 19:28:11",
         "8.115.2 build 6 50688"
        ],
        [
         "25",
         "8253c989-ebe3-4e39-904f-5b9dfc37749e",
         "Joey Jinks",
         "I love this app but to be honest it can sometimes be hard to find something to watch.",
         "5",
         "0",
         "8.90.1 build 7 50522",
         "2024-05-25 19:24:50",
         "8.90.1 build 7 50522"
        ],
        [
         "26",
         "5e053143-3cb6-4a63-9c4a-d25c084a0dee",
         "Dragonfire 31",
         "This patch finally kicked in the household rule which is the dumbest thing. Instead of going after family accounts let's produce good quality products or don't kill the ones people like and maybe people would stick around more on the platform.",
         "1",
         "0",
         "8.115.2 build 6 50688",
         "2024-05-25 19:17:38",
         "8.115.2 build 6 50688"
        ],
        [
         "27",
         "b89c8cfd-e8ec-40ce-98ff-ee756da2920c",
         "rsekhar skht",
         "Worst app ... Install one time and pickup the normal but when payment successful your device only playing Netflix games...",
         "1",
         "0",
         null,
         "2024-05-25 19:09:05",
         null
        ],
        [
         "28",
         "722ae355-33d9-4daa-9a17-e9f9c2a92b5e",
         "Anthony Boucher",
         "Greedy. Had to uninstall since I travel a lot and can't use this stupid service with their updated policies.",
         "1",
         "0",
         "8.50.0 build 9 50318",
         "2024-05-25 19:03:30",
         "8.50.0 build 9 50318"
        ],
        [
         "29",
         "dca694dd-8c91-4157-a606-c37d932877cb",
         "Paola Benítez Torres",
         "No abre.",
         "1",
         "0",
         "8.114.0 build 19 50680",
         "2024-05-25 19:00:06",
         "8.114.0 build 19 50680"
        ],
        [
         "30",
         "3f4a95b8-b7a6-4efb-a3b5-18f2fd1cb526",
         "Haseebullah Khan",
         "Marvelous",
         "5",
         "0",
         "8.114.0 build 19 50680",
         "2024-05-25 18:52:38",
         "8.114.0 build 19 50680"
        ],
        [
         "31",
         "2d0a029d-2a26-45d2-8b8c-f29f596308eb",
         "Mikhail Ugolkov",
         "Has Netflix QA ever tried listening to the music in the movies at 1.25x or 1.5x speed? My ears cannot stand Queen's Gambit at 1.5x on a Samsung s24+. Please fix your audio pacing at 1.5 and 1.25 speeds!",
         "1",
         "0",
         "8.115.2 build 6 50688",
         "2024-05-25 18:51:16",
         "8.115.2 build 6 50688"
        ],
        [
         "32",
         "f48a1abb-b54e-453e-9581-05f4dd37abf6",
         "Lizz Garcia",
         "Can't even take screenshots. Why are we going in reverse?",
         "1",
         "0",
         "8.112.1 build 6 50665",
         "2024-05-25 18:49:37",
         "8.112.1 build 6 50665"
        ],
        [
         "33",
         "8ec1f11e-3d68-49c7-9b8c-79f18fa886cc",
         "Richard “Rick” Rodgers",
         "Great",
         "3",
         "0",
         "8.109.0 build 7 50647",
         "2024-05-25 18:48:45",
         "8.109.0 build 7 50647"
        ],
        [
         "34",
         "2331d00e-bb91-4dfc-a020-d564367367b4",
         "Esohe Uzama",
         "I love the app",
         "5",
         "0",
         null,
         "2024-05-25 18:37:01",
         null
        ],
        [
         "35",
         "ed1999d1-cef4-4d1d-9990-e29c721d800d",
         "Bharat Singh",
         "Okay 👌 hai",
         "5",
         "0",
         "8.115.2 build 6 50688",
         "2024-05-25 18:10:26",
         "8.115.2 build 6 50688"
        ],
        [
         "36",
         "2ad00f18-b3c4-4b0b-9b59-ceb4d6c4e9c5",
         "Luan Jonas",
         "Estou em outra cidade e bloquearam meu acesso, sem condições essas novas regras",
         "1",
         "0",
         "8.115.2 build 6 50688",
         "2024-05-25 18:10:25",
         "8.115.2 build 6 50688"
        ],
        [
         "37",
         "c8fae17d-e0a4-4650-a165-f12991505d0e",
         "Emily Evans",
         "3 months ago the app started telling my that my phone \"wasn't on my home network\" even when home. I had no way to change that since I don't have a TV, and after 2 HOURS of time with customer service repeating the SAME issues 7 times, their only response was to \"just keep doing the 2 week trial.\" I'm not Paying monthly for Netflix to question what devices I'm watching on. I've had it since almost the beginning, it's sad to lose it but the customer service was so bad I'd rather go without.",
         "1",
         "0",
         null,
         "2024-05-25 18:05:05",
         null
        ],
        [
         "38",
         "f17b67af-f7b7-46a9-959e-c2b776db087a",
         "Anis Mehikic",
         "I've been payin for this network for years (nearly a decade) and it tells me I am not part of my own Houshold. I can not login on my phone app that I used today. It really gets on my nervs, I might consider canceling my subscription.",
         "1",
         "0",
         "8.115.2 build 6 50688",
         "2024-05-25 17:34:15",
         "8.115.2 build 6 50688"
        ],
        [
         "39",
         "21e9b64c-12a2-472a-a642-e2c36de8c9a2",
         "mysh",
         "I have a problem. When I wanted to open the apps, it said to choose like a gmail acc using the smartlock thingy so press the gmail. But then it brings me back to home for no reason. I tried it multiple times and its still the same. Email me if you dont understand.",
         "3",
         "2",
         "8.113.2 build 27 50674",
         "2024-05-25 17:21:55",
         "8.113.2 build 27 50674"
        ],
        [
         "40",
         "4b22cd42-4b4a-4a05-9e2d-d45af9642ff2",
         "Herb Etkin",
         "Easier than anticipated",
         "4",
         "0",
         "8.115.2 build 6 50688",
         "2024-05-25 17:10:33",
         "8.115.2 build 6 50688"
        ],
        [
         "41",
         "7e716f98-b5f2-4023-a0d8-2aef0d28f91b",
         "Bijan Mistri",
         "👍👍",
         "5",
         "0",
         "8.115.2 build 6 50688",
         "2024-05-25 17:04:27",
         "8.115.2 build 6 50688"
        ],
        [
         "42",
         "0ea1fd94-f94a-4772-ac60-b5de3a86cfd4",
         "Jitendra Singh",
         "I only subscribe for salaar hindi version. But it's not available. So i cancel the subscription.",
         "1",
         "0",
         "8.115.2 build 6 50688",
         "2024-05-25 17:03:03",
         "8.115.2 build 6 50688"
        ],
        [
         "43",
         "fcac86b5-acea-42f5-a081-a9dfb0bcc579",
         "Alma Sackey",
         "Bad",
         "5",
         "0",
         "8.115.2 build 6 50688",
         "2024-05-25 16:59:24",
         "8.115.2 build 6 50688"
        ],
        [
         "44",
         "b1bd9fce-d8c2-4e65-a54b-66b05e4df1c1",
         "ExpressTimes",
         "I am extremely disappointed with Netflix. Although I wasn't a frequent viewer, I enjoyed using it occasionally. Recently, Netflix stopped working on my TV, even though I am paying for the service every month. They are not providing the services I paid for. They are cheaters. I will be switching to Amazon Prime Video instead.",
         "1",
         "0",
         "8.113.3 build 31 50678",
         "2024-05-25 16:55:20",
         "8.113.3 build 31 50678"
        ],
        [
         "45",
         "d5552067-4a4c-4f2d-aae6-b11df837ea8b",
         "Shawn Harper",
         "I want Netflix back, because it was expired, so help me fix it, NOW!!!",
         "5",
         "0",
         "8.115.2 build 6 50688",
         "2024-05-25 16:41:05",
         "8.115.2 build 6 50688"
        ],
        [
         "46",
         "fd571089-faab-4528-a03b-c28ef32ae2e9",
         "Stephanie",
         "I absolutely adore Netflix..It is funny enough one of the few platforms left that when you get \"ad-free\" it means ad-free. It is also a platform that is easy to navigate. The only things I wish is that Netflix when acquiring TV shows and movies it would have all of the seasons and the movies in order. I also miss the randomizing option Netflix had if you didn't know what to watch.",
         "4",
         "0",
         null,
         "2024-05-25 16:40:12",
         null
        ],
        [
         "47",
         "052aba90-f9a7-42a7-97ea-68d580da0796",
         "Nancy Martinez",
         "it has all the movies I like and",
         "5",
         "0",
         "8.114.0 build 19 50680",
         "2024-05-25 16:35:58",
         "8.114.0 build 19 50680"
        ],
        [
         "48",
         "e1494179-2004-4a6c-8cd8-3e534d16439e",
         "Noorul Huda",
         "Bekaar",
         "1",
         "0",
         "8.72.1 build 6 50434",
         "2024-05-25 16:22:11",
         "8.72.1 build 6 50434"
        ],
        [
         "49",
         "6fbcc463-8060-4183-9747-cebd9add507c",
         "Andrew R",
         "Do you guys USE YOUR OWN APP? So frustrating",
         "1",
         "0",
         "8.115.2 build 6 50688",
         "2024-05-25 16:21:58",
         "8.115.2 build 6 50688"
        ]
       ],
       "shape": {
        "columns": 8,
        "rows": 110418
       }
      },
      "text/html": [
       "<div>\n",
       "<style scoped>\n",
       "    .dataframe tbody tr th:only-of-type {\n",
       "        vertical-align: middle;\n",
       "    }\n",
       "\n",
       "    .dataframe tbody tr th {\n",
       "        vertical-align: top;\n",
       "    }\n",
       "\n",
       "    .dataframe thead th {\n",
       "        text-align: right;\n",
       "    }\n",
       "</style>\n",
       "<table border=\"1\" class=\"dataframe\">\n",
       "  <thead>\n",
       "    <tr style=\"text-align: right;\">\n",
       "      <th></th>\n",
       "      <th>reviewId</th>\n",
       "      <th>userName</th>\n",
       "      <th>content</th>\n",
       "      <th>score</th>\n",
       "      <th>thumbsUpCount</th>\n",
       "      <th>reviewCreatedVersion</th>\n",
       "      <th>at</th>\n",
       "      <th>appVersion</th>\n",
       "    </tr>\n",
       "  </thead>\n",
       "  <tbody>\n",
       "    <tr>\n",
       "      <th>0</th>\n",
       "      <td>5d12b3ec-f34d-4711-8280-eca2604d559a</td>\n",
       "      <td>Dineo Nickel</td>\n",
       "      <td>please bring back some old shows that got a lo...</td>\n",
       "      <td>4</td>\n",
       "      <td>0</td>\n",
       "      <td>8.115.2 build 6 50688</td>\n",
       "      <td>2024-05-25 22:40:09</td>\n",
       "      <td>8.115.2 build 6 50688</td>\n",
       "    </tr>\n",
       "    <tr>\n",
       "      <th>1</th>\n",
       "      <td>9ae077fb-c2f1-4ee3-8e68-35be80d704a1</td>\n",
       "      <td>Issa tunde</td>\n",
       "      <td>Thank you</td>\n",
       "      <td>5</td>\n",
       "      <td>0</td>\n",
       "      <td>8.112.1 build 6 50665</td>\n",
       "      <td>2024-05-25 22:37:12</td>\n",
       "      <td>8.112.1 build 6 50665</td>\n",
       "    </tr>\n",
       "    <tr>\n",
       "      <th>2</th>\n",
       "      <td>b89f2695-e803-4e9a-a9ec-c6156642d892</td>\n",
       "      <td>pro gamer (Pratham)</td>\n",
       "      <td>geat free games but we wantMinecraft java edition</td>\n",
       "      <td>5</td>\n",
       "      <td>0</td>\n",
       "      <td>8.109.0 build 7 50647</td>\n",
       "      <td>2024-05-25 22:30:33</td>\n",
       "      <td>8.109.0 build 7 50647</td>\n",
       "    </tr>\n",
       "    <tr>\n",
       "      <th>3</th>\n",
       "      <td>687c952f-4b53-43ab-9e8f-bae26ad875d0</td>\n",
       "      <td>Devon Bryant</td>\n",
       "      <td>Won't open on my phone....</td>\n",
       "      <td>1</td>\n",
       "      <td>1</td>\n",
       "      <td>8.115.2 build 6 50688</td>\n",
       "      <td>2024-05-25 22:30:16</td>\n",
       "      <td>8.115.2 build 6 50688</td>\n",
       "    </tr>\n",
       "    <tr>\n",
       "      <th>4</th>\n",
       "      <td>da1f671f-dd67-45e0-8225-575bcd373bed</td>\n",
       "      <td>Liz Gichora</td>\n",
       "      <td>User friendly, helpful.</td>\n",
       "      <td>5</td>\n",
       "      <td>0</td>\n",
       "      <td>8.115.2 build 6 50688</td>\n",
       "      <td>2024-05-25 22:30:11</td>\n",
       "      <td>8.115.2 build 6 50688</td>\n",
       "    </tr>\n",
       "    <tr>\n",
       "      <th>...</th>\n",
       "      <td>...</td>\n",
       "      <td>...</td>\n",
       "      <td>...</td>\n",
       "      <td>...</td>\n",
       "      <td>...</td>\n",
       "      <td>...</td>\n",
       "      <td>...</td>\n",
       "      <td>...</td>\n",
       "    </tr>\n",
       "    <tr>\n",
       "      <th>110413</th>\n",
       "      <td>a760ead9-e7aa-4ed1-a651-5c37c3600dac</td>\n",
       "      <td>A Google user</td>\n",
       "      <td>i really like it! there are so many movies and...</td>\n",
       "      <td>5</td>\n",
       "      <td>0</td>\n",
       "      <td>NaN</td>\n",
       "      <td>2019-08-03 15:06:03</td>\n",
       "      <td>NaN</td>\n",
       "    </tr>\n",
       "    <tr>\n",
       "      <th>110414</th>\n",
       "      <td>4957f9e7-d7f4-4a52-9764-031cebcac83f</td>\n",
       "      <td>Captain Jeoy</td>\n",
       "      <td>I love Netflix. I always enjoy my time using it.</td>\n",
       "      <td>5</td>\n",
       "      <td>0</td>\n",
       "      <td>8.34.0 build 4 50250</td>\n",
       "      <td>2022-08-15 16:16:30</td>\n",
       "      <td>8.34.0 build 4 50250</td>\n",
       "    </tr>\n",
       "    <tr>\n",
       "      <th>110415</th>\n",
       "      <td>9acf7586-7abf-4b50-8c50-3ede3b2a42c4</td>\n",
       "      <td>Suryansh</td>\n",
       "      <td>Sound quality is very slow of movies</td>\n",
       "      <td>1</td>\n",
       "      <td>0</td>\n",
       "      <td>NaN</td>\n",
       "      <td>2020-08-17 07:26:58</td>\n",
       "      <td>NaN</td>\n",
       "    </tr>\n",
       "    <tr>\n",
       "      <th>110416</th>\n",
       "      <td>32870f7f-c461-4256-b602-75244ca60248</td>\n",
       "      <td>A Google user</td>\n",
       "      <td>Rate is very expensive.. bcos we see netflix s...</td>\n",
       "      <td>1</td>\n",
       "      <td>0</td>\n",
       "      <td>7.17.0 build 13 34346</td>\n",
       "      <td>2019-07-21 09:41:42</td>\n",
       "      <td>7.17.0 build 13 34346</td>\n",
       "    </tr>\n",
       "    <tr>\n",
       "      <th>110417</th>\n",
       "      <td>dc1352e9-10a8-41ca-ab23-05d045b08e90</td>\n",
       "      <td>suraj soni</td>\n",
       "      <td>this app is awesome for english movies ,series...</td>\n",
       "      <td>4</td>\n",
       "      <td>0</td>\n",
       "      <td>NaN</td>\n",
       "      <td>2020-05-24 11:04:08</td>\n",
       "      <td>NaN</td>\n",
       "    </tr>\n",
       "  </tbody>\n",
       "</table>\n",
       "<p>110418 rows × 8 columns</p>\n",
       "</div>"
      ],
      "text/plain": [
       "                                    reviewId             userName  \\\n",
       "0       5d12b3ec-f34d-4711-8280-eca2604d559a         Dineo Nickel   \n",
       "1       9ae077fb-c2f1-4ee3-8e68-35be80d704a1           Issa tunde   \n",
       "2       b89f2695-e803-4e9a-a9ec-c6156642d892  pro gamer (Pratham)   \n",
       "3       687c952f-4b53-43ab-9e8f-bae26ad875d0         Devon Bryant   \n",
       "4       da1f671f-dd67-45e0-8225-575bcd373bed          Liz Gichora   \n",
       "...                                      ...                  ...   \n",
       "110413  a760ead9-e7aa-4ed1-a651-5c37c3600dac        A Google user   \n",
       "110414  4957f9e7-d7f4-4a52-9764-031cebcac83f         Captain Jeoy   \n",
       "110415  9acf7586-7abf-4b50-8c50-3ede3b2a42c4             Suryansh   \n",
       "110416  32870f7f-c461-4256-b602-75244ca60248        A Google user   \n",
       "110417  dc1352e9-10a8-41ca-ab23-05d045b08e90           suraj soni   \n",
       "\n",
       "                                                  content  score  \\\n",
       "0       please bring back some old shows that got a lo...      4   \n",
       "1                                               Thank you      5   \n",
       "2       geat free games but we wantMinecraft java edition      5   \n",
       "3                              Won't open on my phone....      1   \n",
       "4                                 User friendly, helpful.      5   \n",
       "...                                                   ...    ...   \n",
       "110413  i really like it! there are so many movies and...      5   \n",
       "110414   I love Netflix. I always enjoy my time using it.      5   \n",
       "110415               Sound quality is very slow of movies      1   \n",
       "110416  Rate is very expensive.. bcos we see netflix s...      1   \n",
       "110417  this app is awesome for english movies ,series...      4   \n",
       "\n",
       "        thumbsUpCount   reviewCreatedVersion                   at  \\\n",
       "0                   0  8.115.2 build 6 50688  2024-05-25 22:40:09   \n",
       "1                   0  8.112.1 build 6 50665  2024-05-25 22:37:12   \n",
       "2                   0  8.109.0 build 7 50647  2024-05-25 22:30:33   \n",
       "3                   1  8.115.2 build 6 50688  2024-05-25 22:30:16   \n",
       "4                   0  8.115.2 build 6 50688  2024-05-25 22:30:11   \n",
       "...               ...                    ...                  ...   \n",
       "110413              0                    NaN  2019-08-03 15:06:03   \n",
       "110414              0   8.34.0 build 4 50250  2022-08-15 16:16:30   \n",
       "110415              0                    NaN  2020-08-17 07:26:58   \n",
       "110416              0  7.17.0 build 13 34346  2019-07-21 09:41:42   \n",
       "110417              0                    NaN  2020-05-24 11:04:08   \n",
       "\n",
       "                   appVersion  \n",
       "0       8.115.2 build 6 50688  \n",
       "1       8.112.1 build 6 50665  \n",
       "2       8.109.0 build 7 50647  \n",
       "3       8.115.2 build 6 50688  \n",
       "4       8.115.2 build 6 50688  \n",
       "...                       ...  \n",
       "110413                    NaN  \n",
       "110414   8.34.0 build 4 50250  \n",
       "110415                    NaN  \n",
       "110416  7.17.0 build 13 34346  \n",
       "110417                    NaN  \n",
       "\n",
       "[110418 rows x 8 columns]"
      ]
     },
     "execution_count": 3,
     "metadata": {},
     "output_type": "execute_result"
    }
   ],
   "source": [
    "df = pd.read_csv('./netflix_reviews.csv')\n",
    "df"
   ]
  },
  {
   "cell_type": "markdown",
   "metadata": {},
   "source": [
    "- content: users' reviews\n",
    "- score: rating of satisfaction\n",
    "- thumbsUpCount: total likes from other users"
   ]
  },
  {
   "cell_type": "code",
   "execution_count": 4,
   "metadata": {},
   "outputs": [
    {
     "data": {
      "application/vnd.microsoft.datawrangler.viewer.v0+json": {
       "columns": [
        {
         "name": "index",
         "rawType": "int64",
         "type": "integer"
        },
        {
         "name": "content",
         "rawType": "object",
         "type": "unknown"
        },
        {
         "name": "score",
         "rawType": "int64",
         "type": "integer"
        },
        {
         "name": "thumbsUpCount",
         "rawType": "int64",
         "type": "integer"
        },
        {
         "name": "at",
         "rawType": "object",
         "type": "string"
        }
       ],
       "conversionMethod": "pd.DataFrame",
       "ref": "85df13ba-626e-4c07-b571-68204be77494",
       "rows": [
        [
         "0",
         "please bring back some old shows that got a lot of popularity. also Netflix tends to bring shows that had only 1 amazing season and then the show will never get another season.",
         "4",
         "0",
         "2024-05-25 22:40:09"
        ],
        [
         "1",
         "Thank you",
         "5",
         "0",
         "2024-05-25 22:37:12"
        ],
        [
         "2",
         "geat free games but we wantMinecraft java edition",
         "5",
         "0",
         "2024-05-25 22:30:33"
        ],
        [
         "3",
         "Won't open on my phone....",
         "1",
         "1",
         "2024-05-25 22:30:16"
        ],
        [
         "4",
         "User friendly, helpful.",
         "5",
         "0",
         "2024-05-25 22:30:11"
        ],
        [
         "5",
         "Good",
         "5",
         "0",
         "2024-05-25 22:26:07"
        ],
        [
         "6",
         "It's Netflix dawg that's pretty much it 7/10",
         "4",
         "0",
         "2024-05-25 22:13:59"
        ],
        [
         "7",
         "Removed doctor who like what the sigma all I want is my doctor who like why remove it",
         "1",
         "0",
         "2024-05-25 22:02:08"
        ],
        [
         "8",
         "It doesn't open and I have data",
         "1",
         "1",
         "2024-05-25 21:47:56"
        ],
        [
         "9",
         "This is best app because there is every thing I want to watch",
         "5",
         "0",
         "2024-05-25 21:31:06"
        ],
        [
         "10",
         "I'd give it 0 if i could",
         "1",
         "0",
         "2024-05-25 21:17:23"
        ],
        [
         "11",
         "I like it!",
         "5",
         "0",
         "2024-05-25 20:43:45"
        ],
        [
         "12",
         "Delayed content",
         "4",
         "0",
         "2024-05-25 20:42:43"
        ],
        [
         "13",
         "Great 👍 Easy to Use!",
         "5",
         "0",
         "2024-05-25 20:41:08"
        ],
        [
         "14",
         "Netflix has been around years and still works for my family we only watch Netflix and Disney plus on a family night it is always quick and easy to log in to I would also reccomed horrid Henry for the kids and law and order for the adults when alone!!!!!",
         "5",
         "0",
         "2024-05-25 20:40:46"
        ],
        [
         "15",
         "Amazing how it doesn't let me use the tv app on my second tv ♡",
         "1",
         "0",
         "2024-05-25 20:31:22"
        ],
        [
         "16",
         "App is not working crashing again and again",
         "1",
         "1",
         "2024-05-25 20:26:52"
        ],
        [
         "17",
         "Good",
         "5",
         "0",
         "2024-05-25 20:11:00"
        ],
        [
         "18",
         "Very cool 😎",
         "5",
         "0",
         "2024-05-25 20:03:47"
        ],
        [
         "19",
         "Whenever i want to use netflix it keeps saying im not part of my family's netflix acc IM DELETING NETFLIX",
         "1",
         "0",
         "2024-05-25 19:53:39"
        ],
        [
         "20",
         "Poor",
         "5",
         "0",
         "2024-05-25 19:36:46"
        ],
        [
         "21",
         "Amazing and great",
         "5",
         "0",
         "2024-05-25 19:33:08"
        ],
        [
         "22",
         "Can't open my app anymore. Keeps flashing message playing on too many devices. I changed account. Still same.",
         "1",
         "0",
         "2024-05-25 19:32:58"
        ],
        [
         "23",
         "Imagine having no kids profile, but Netflix keeps telling you that as a 30 year old woman, I can't watch Orange is the new Black because im 5 years old, apparently. My maturing rating is sitting at R18, but I can't watch anything past M rating. Looks like I'll be watching Madagascar and leaving this subscription service alone, once my month is up !",
         "1",
         "0",
         "2024-05-25 19:31:39"
        ],
        [
         "24",
         "Since joining Netflix I keep on getting scam emails and scam phone calls from Netflix.",
         "3",
         "0",
         "2024-05-25 19:28:11"
        ],
        [
         "25",
         "I love this app but to be honest it can sometimes be hard to find something to watch.",
         "5",
         "0",
         "2024-05-25 19:24:50"
        ],
        [
         "26",
         "This patch finally kicked in the household rule which is the dumbest thing. Instead of going after family accounts let's produce good quality products or don't kill the ones people like and maybe people would stick around more on the platform.",
         "1",
         "0",
         "2024-05-25 19:17:38"
        ],
        [
         "27",
         "Worst app ... Install one time and pickup the normal but when payment successful your device only playing Netflix games...",
         "1",
         "0",
         "2024-05-25 19:09:05"
        ],
        [
         "28",
         "Greedy. Had to uninstall since I travel a lot and can't use this stupid service with their updated policies.",
         "1",
         "0",
         "2024-05-25 19:03:30"
        ],
        [
         "29",
         "No abre.",
         "1",
         "0",
         "2024-05-25 19:00:06"
        ],
        [
         "30",
         "Marvelous",
         "5",
         "0",
         "2024-05-25 18:52:38"
        ],
        [
         "31",
         "Has Netflix QA ever tried listening to the music in the movies at 1.25x or 1.5x speed? My ears cannot stand Queen's Gambit at 1.5x on a Samsung s24+. Please fix your audio pacing at 1.5 and 1.25 speeds!",
         "1",
         "0",
         "2024-05-25 18:51:16"
        ],
        [
         "32",
         "Can't even take screenshots. Why are we going in reverse?",
         "1",
         "0",
         "2024-05-25 18:49:37"
        ],
        [
         "33",
         "Great",
         "3",
         "0",
         "2024-05-25 18:48:45"
        ],
        [
         "34",
         "I love the app",
         "5",
         "0",
         "2024-05-25 18:37:01"
        ],
        [
         "35",
         "Okay 👌 hai",
         "5",
         "0",
         "2024-05-25 18:10:26"
        ],
        [
         "36",
         "Estou em outra cidade e bloquearam meu acesso, sem condições essas novas regras",
         "1",
         "0",
         "2024-05-25 18:10:25"
        ],
        [
         "37",
         "3 months ago the app started telling my that my phone \"wasn't on my home network\" even when home. I had no way to change that since I don't have a TV, and after 2 HOURS of time with customer service repeating the SAME issues 7 times, their only response was to \"just keep doing the 2 week trial.\" I'm not Paying monthly for Netflix to question what devices I'm watching on. I've had it since almost the beginning, it's sad to lose it but the customer service was so bad I'd rather go without.",
         "1",
         "0",
         "2024-05-25 18:05:05"
        ],
        [
         "38",
         "I've been payin for this network for years (nearly a decade) and it tells me I am not part of my own Houshold. I can not login on my phone app that I used today. It really gets on my nervs, I might consider canceling my subscription.",
         "1",
         "0",
         "2024-05-25 17:34:15"
        ],
        [
         "39",
         "I have a problem. When I wanted to open the apps, it said to choose like a gmail acc using the smartlock thingy so press the gmail. But then it brings me back to home for no reason. I tried it multiple times and its still the same. Email me if you dont understand.",
         "3",
         "2",
         "2024-05-25 17:21:55"
        ],
        [
         "40",
         "Easier than anticipated",
         "4",
         "0",
         "2024-05-25 17:10:33"
        ],
        [
         "41",
         "👍👍",
         "5",
         "0",
         "2024-05-25 17:04:27"
        ],
        [
         "42",
         "I only subscribe for salaar hindi version. But it's not available. So i cancel the subscription.",
         "1",
         "0",
         "2024-05-25 17:03:03"
        ],
        [
         "43",
         "Bad",
         "5",
         "0",
         "2024-05-25 16:59:24"
        ],
        [
         "44",
         "I am extremely disappointed with Netflix. Although I wasn't a frequent viewer, I enjoyed using it occasionally. Recently, Netflix stopped working on my TV, even though I am paying for the service every month. They are not providing the services I paid for. They are cheaters. I will be switching to Amazon Prime Video instead.",
         "1",
         "0",
         "2024-05-25 16:55:20"
        ],
        [
         "45",
         "I want Netflix back, because it was expired, so help me fix it, NOW!!!",
         "5",
         "0",
         "2024-05-25 16:41:05"
        ],
        [
         "46",
         "I absolutely adore Netflix..It is funny enough one of the few platforms left that when you get \"ad-free\" it means ad-free. It is also a platform that is easy to navigate. The only things I wish is that Netflix when acquiring TV shows and movies it would have all of the seasons and the movies in order. I also miss the randomizing option Netflix had if you didn't know what to watch.",
         "4",
         "0",
         "2024-05-25 16:40:12"
        ],
        [
         "47",
         "it has all the movies I like and",
         "5",
         "0",
         "2024-05-25 16:35:58"
        ],
        [
         "48",
         "Bekaar",
         "1",
         "0",
         "2024-05-25 16:22:11"
        ],
        [
         "49",
         "Do you guys USE YOUR OWN APP? So frustrating",
         "1",
         "0",
         "2024-05-25 16:21:58"
        ]
       ],
       "shape": {
        "columns": 4,
        "rows": 110418
       }
      },
      "text/html": [
       "<div>\n",
       "<style scoped>\n",
       "    .dataframe tbody tr th:only-of-type {\n",
       "        vertical-align: middle;\n",
       "    }\n",
       "\n",
       "    .dataframe tbody tr th {\n",
       "        vertical-align: top;\n",
       "    }\n",
       "\n",
       "    .dataframe thead th {\n",
       "        text-align: right;\n",
       "    }\n",
       "</style>\n",
       "<table border=\"1\" class=\"dataframe\">\n",
       "  <thead>\n",
       "    <tr style=\"text-align: right;\">\n",
       "      <th></th>\n",
       "      <th>content</th>\n",
       "      <th>score</th>\n",
       "      <th>thumbsUpCount</th>\n",
       "      <th>at</th>\n",
       "    </tr>\n",
       "  </thead>\n",
       "  <tbody>\n",
       "    <tr>\n",
       "      <th>0</th>\n",
       "      <td>please bring back some old shows that got a lo...</td>\n",
       "      <td>4</td>\n",
       "      <td>0</td>\n",
       "      <td>2024-05-25 22:40:09</td>\n",
       "    </tr>\n",
       "    <tr>\n",
       "      <th>1</th>\n",
       "      <td>Thank you</td>\n",
       "      <td>5</td>\n",
       "      <td>0</td>\n",
       "      <td>2024-05-25 22:37:12</td>\n",
       "    </tr>\n",
       "    <tr>\n",
       "      <th>2</th>\n",
       "      <td>geat free games but we wantMinecraft java edition</td>\n",
       "      <td>5</td>\n",
       "      <td>0</td>\n",
       "      <td>2024-05-25 22:30:33</td>\n",
       "    </tr>\n",
       "    <tr>\n",
       "      <th>3</th>\n",
       "      <td>Won't open on my phone....</td>\n",
       "      <td>1</td>\n",
       "      <td>1</td>\n",
       "      <td>2024-05-25 22:30:16</td>\n",
       "    </tr>\n",
       "    <tr>\n",
       "      <th>4</th>\n",
       "      <td>User friendly, helpful.</td>\n",
       "      <td>5</td>\n",
       "      <td>0</td>\n",
       "      <td>2024-05-25 22:30:11</td>\n",
       "    </tr>\n",
       "    <tr>\n",
       "      <th>...</th>\n",
       "      <td>...</td>\n",
       "      <td>...</td>\n",
       "      <td>...</td>\n",
       "      <td>...</td>\n",
       "    </tr>\n",
       "    <tr>\n",
       "      <th>110413</th>\n",
       "      <td>i really like it! there are so many movies and...</td>\n",
       "      <td>5</td>\n",
       "      <td>0</td>\n",
       "      <td>2019-08-03 15:06:03</td>\n",
       "    </tr>\n",
       "    <tr>\n",
       "      <th>110414</th>\n",
       "      <td>I love Netflix. I always enjoy my time using it.</td>\n",
       "      <td>5</td>\n",
       "      <td>0</td>\n",
       "      <td>2022-08-15 16:16:30</td>\n",
       "    </tr>\n",
       "    <tr>\n",
       "      <th>110415</th>\n",
       "      <td>Sound quality is very slow of movies</td>\n",
       "      <td>1</td>\n",
       "      <td>0</td>\n",
       "      <td>2020-08-17 07:26:58</td>\n",
       "    </tr>\n",
       "    <tr>\n",
       "      <th>110416</th>\n",
       "      <td>Rate is very expensive.. bcos we see netflix s...</td>\n",
       "      <td>1</td>\n",
       "      <td>0</td>\n",
       "      <td>2019-07-21 09:41:42</td>\n",
       "    </tr>\n",
       "    <tr>\n",
       "      <th>110417</th>\n",
       "      <td>this app is awesome for english movies ,series...</td>\n",
       "      <td>4</td>\n",
       "      <td>0</td>\n",
       "      <td>2020-05-24 11:04:08</td>\n",
       "    </tr>\n",
       "  </tbody>\n",
       "</table>\n",
       "<p>110418 rows × 4 columns</p>\n",
       "</div>"
      ],
      "text/plain": [
       "                                                  content  score  \\\n",
       "0       please bring back some old shows that got a lo...      4   \n",
       "1                                               Thank you      5   \n",
       "2       geat free games but we wantMinecraft java edition      5   \n",
       "3                              Won't open on my phone....      1   \n",
       "4                                 User friendly, helpful.      5   \n",
       "...                                                   ...    ...   \n",
       "110413  i really like it! there are so many movies and...      5   \n",
       "110414   I love Netflix. I always enjoy my time using it.      5   \n",
       "110415               Sound quality is very slow of movies      1   \n",
       "110416  Rate is very expensive.. bcos we see netflix s...      1   \n",
       "110417  this app is awesome for english movies ,series...      4   \n",
       "\n",
       "        thumbsUpCount                   at  \n",
       "0                   0  2024-05-25 22:40:09  \n",
       "1                   0  2024-05-25 22:37:12  \n",
       "2                   0  2024-05-25 22:30:33  \n",
       "3                   1  2024-05-25 22:30:16  \n",
       "4                   0  2024-05-25 22:30:11  \n",
       "...               ...                  ...  \n",
       "110413              0  2019-08-03 15:06:03  \n",
       "110414              0  2022-08-15 16:16:30  \n",
       "110415              0  2020-08-17 07:26:58  \n",
       "110416              0  2019-07-21 09:41:42  \n",
       "110417              0  2020-05-24 11:04:08  \n",
       "\n",
       "[110418 rows x 4 columns]"
      ]
     },
     "execution_count": 4,
     "metadata": {},
     "output_type": "execute_result"
    }
   ],
   "source": [
    "df = df[['content', 'score', 'thumbsUpCount', 'at']]\n",
    "df"
   ]
  },
  {
   "cell_type": "code",
   "execution_count": 5,
   "metadata": {},
   "outputs": [
    {
     "data": {
      "text/plain": [
       "score\n",
       "1    43225\n",
       "5    31147\n",
       "4    13677\n",
       "3    11772\n",
       "2    10597\n",
       "Name: count, dtype: int64"
      ]
     },
     "execution_count": 5,
     "metadata": {},
     "output_type": "execute_result"
    }
   ],
   "source": [
    "rating_dist = df['score'].value_counts()\n",
    "rating_dist"
   ]
  },
  {
   "cell_type": "markdown",
   "metadata": {},
   "source": [
    "## distribution of ratings"
   ]
  },
  {
   "cell_type": "code",
   "execution_count": 6,
   "metadata": {},
   "outputs": [
    {
     "data": {
      "text/plain": [
       "Text(0, 0.5, 'Number of Reviews')"
      ]
     },
     "execution_count": 6,
     "metadata": {},
     "output_type": "execute_result"
    },
    {
     "data": {
      "image/png": "[encoded data removed]",
      "text/plain": [
       "<Figure size 640x480 with 1 Axes>"
      ]
     },
     "metadata": {},
     "output_type": "display_data"
    }
   ],
   "source": [
    "plt.bar(rating_dist.index, rating_dist.values, color = 'skyblue')\n",
    "plt.xlabel('Rating')\n",
    "plt.ylabel('Number of Reviews')"
   ]
  },
  {
   "cell_type": "markdown",
   "metadata": {},
   "source": [
    "## filtering out missing value(content)"
   ]
  },
  {
   "cell_type": "code",
   "execution_count": 7,
   "metadata": {},
   "outputs": [
    {
     "data": {
      "text/plain": [
       "(110418, 4)"
      ]
     },
     "execution_count": 7,
     "metadata": {},
     "output_type": "execute_result"
    }
   ],
   "source": [
    "df.shape"
   ]
  },
  {
   "cell_type": "code",
   "execution_count": 8,
   "metadata": {},
   "outputs": [
    {
     "data": {
      "text/plain": [
       "content          2\n",
       "score            0\n",
       "thumbsUpCount    0\n",
       "at               0\n",
       "dtype: int64"
      ]
     },
     "execution_count": 8,
     "metadata": {},
     "output_type": "execute_result"
    }
   ],
   "source": [
    "df.isna().sum()"
   ]
  },
  {
   "cell_type": "code",
   "execution_count": 9,
   "metadata": {},
   "outputs": [
    {
     "name": "stderr",
     "output_type": "stream",
     "text": [
      "/tmp/ipykernel_9732/2053667463.py:1: SettingWithCopyWarning: \n",
      "A value is trying to be set on a copy of a slice from a DataFrame\n",
      "\n",
      "See the caveats in the documentation: https://pandas.pydata.org/pandas-docs/stable/user_guide/indexing.html#returning-a-view-versus-a-copy\n",
      "  df.dropna(inplace=True)\n"
     ]
    },
    {
     "data": {
      "text/plain": [
       "(110416, 4)"
      ]
     },
     "execution_count": 9,
     "metadata": {},
     "output_type": "execute_result"
    }
   ],
   "source": [
    "df.dropna(inplace=True)\n",
    "df.shape"
   ]
  },
  {
   "cell_type": "markdown",
   "metadata": {},
   "source": [
    "<h4>Approaches\n",
    "\n",
    "- try all 5 scale of ratings\n",
    "- bond 1,2 as negative emotion, 3 as neutral, bond 4,5 as positive emotion\n",
    "- prediction:\n",
    "1. Bag of words\n",
    "2. TF-IDF\n",
    "3. Word embeddings: Word2Vec\n",
    "- adding thumbsIpCount vs not including thumbsIpCount"
   ]
  },
  {
   "cell_type": "code",
   "execution_count": 10,
   "metadata": {},
   "outputs": [
    {
     "data": {
      "text/plain": [
       "score\n",
       "1    43225\n",
       "5    31146\n",
       "4    13677\n",
       "3    11772\n",
       "2    10596\n",
       "Name: count, dtype: int64"
      ]
     },
     "execution_count": 10,
     "metadata": {},
     "output_type": "execute_result"
    }
   ],
   "source": [
    "df['score'].value_counts()"
   ]
  },
  {
   "cell_type": "markdown",
   "metadata": {},
   "source": [
    "## distribution of ratings-bonded"
   ]
  },
  {
   "cell_type": "code",
   "execution_count": 11,
   "metadata": {},
   "outputs": [
    {
     "name": "stderr",
     "output_type": "stream",
     "text": [
      "/tmp/ipykernel_9732/301982692.py:1: SettingWithCopyWarning: \n",
      "A value is trying to be set on a copy of a slice from a DataFrame.\n",
      "Try using .loc[row_indexer,col_indexer] = value instead\n",
      "\n",
      "See the caveats in the documentation: https://pandas.pydata.org/pandas-docs/stable/user_guide/indexing.html#returning-a-view-versus-a-copy\n",
      "  df['score_bond'] = df['score'].apply(lambda x: \"negative\" if x < 3 else (\"positive\" if x > 3 else \"neutral\"))\n"
     ]
    },
    {
     "data": {
      "text/plain": [
       "Text(0, 0.5, 'Number of Reviews')"
      ]
     },
     "execution_count": 11,
     "metadata": {},
     "output_type": "execute_result"
    },
    {
     "data": {
      "image/png": "[encoded data removed]",
      "text/plain": [
       "<Figure size 640x480 with 1 Axes>"
      ]
     },
     "metadata": {},
     "output_type": "display_data"
    }
   ],
   "source": [
    "df['score_bond'] = df['score'].apply(lambda x: \"negative\" if x < 3 else (\"positive\" if x > 3 else \"neutral\"))\n",
    "rating_bond_dist = df['score_bond'].value_counts()\n",
    "plt.bar(rating_bond_dist.index, rating_bond_dist.values, color = 'skyblue')\n",
    "plt.xlabel('Rating')\n",
    "plt.ylabel('Number of Reviews')"
   ]
  },
  {
   "cell_type": "markdown",
   "metadata": {},
   "source": [
    "## distribution of thumbsUpCount"
   ]
  },
  {
   "cell_type": "code",
   "execution_count": 12,
   "metadata": {},
   "outputs": [
    {
     "data": {
      "text/plain": [
       "count    110416.000000\n",
       "mean         10.685879\n",
       "std         101.547524\n",
       "min           0.000000\n",
       "25%           0.000000\n",
       "50%           0.000000\n",
       "75%           1.000000\n",
       "max        8032.000000\n",
       "Name: thumbsUpCount, dtype: float64"
      ]
     },
     "execution_count": 12,
     "metadata": {},
     "output_type": "execute_result"
    }
   ],
   "source": [
    "df['thumbsUpCount'].describe()"
   ]
  },
  {
   "cell_type": "code",
   "execution_count": 13,
   "metadata": {},
   "outputs": [
    {
     "data": {
      "text/plain": [
       "4.0"
      ]
     },
     "execution_count": 13,
     "metadata": {},
     "output_type": "execute_result"
    }
   ],
   "source": [
    "top_10_percent_threshold = df['thumbsUpCount'].quantile(0.9)\n",
    "top_10_percent_threshold"
   ]
  },
  {
   "cell_type": "code",
   "execution_count": 14,
   "metadata": {},
   "outputs": [
    {
     "data": {
      "text/plain": [
       "99598"
      ]
     },
     "execution_count": 14,
     "metadata": {},
     "output_type": "execute_result"
    }
   ],
   "source": [
    "a = df[df['thumbsUpCount'] <= top_10_percent_threshold]['thumbsUpCount'].value_counts()\n",
    "a.sum()"
   ]
  },
  {
   "cell_type": "code",
   "execution_count": 15,
   "metadata": {},
   "outputs": [
    {
     "data": {
      "text/plain": [
       "(99598, 5)"
      ]
     },
     "execution_count": 15,
     "metadata": {},
     "output_type": "execute_result"
    }
   ],
   "source": [
    "df2 = df[df['thumbsUpCount'] <= top_10_percent_threshold].copy()\n",
    "df2.shape"
   ]
  },
  {
   "cell_type": "code",
   "execution_count": 16,
   "metadata": {},
   "outputs": [
    {
     "data": {
      "text/plain": [
       "Text(0, 0.5, 'Number of ThumbsUp')"
      ]
     },
     "execution_count": 16,
     "metadata": {},
     "output_type": "execute_result"
    },
    {
     "data": {
      "image/png": "[encoded data removed]",
      "text/plain": [
       "<Figure size 640x480 with 1 Axes>"
      ]
     },
     "metadata": {},
     "output_type": "display_data"
    }
   ],
   "source": [
    "plt.bar(a.index, a.values, color = 'skyblue')\n",
    "plt.xlabel('Rating')\n",
    "plt.ylabel('Number of ThumbsUp')"
   ]
  },
  {
   "cell_type": "code",
   "execution_count": 17,
   "metadata": {},
   "outputs": [
    {
     "data": {
      "text/plain": [
       "1.0"
      ]
     },
     "execution_count": 17,
     "metadata": {},
     "output_type": "execute_result"
    }
   ],
   "source": [
    "top_20_percent_threshold = df['thumbsUpCount'].quantile(0.8)\n",
    "top_20_percent_threshold"
   ]
  },
  {
   "cell_type": "code",
   "execution_count": 18,
   "metadata": {},
   "outputs": [
    {
     "data": {
      "text/plain": [
       "89956"
      ]
     },
     "execution_count": 18,
     "metadata": {},
     "output_type": "execute_result"
    }
   ],
   "source": [
    "b = df[df['thumbsUpCount'] <= top_20_percent_threshold]['thumbsUpCount'].value_counts()\n",
    "b.sum()"
   ]
  },
  {
   "cell_type": "code",
   "execution_count": 19,
   "metadata": {},
   "outputs": [
    {
     "data": {
      "text/plain": [
       "(89956, 5)"
      ]
     },
     "execution_count": 19,
     "metadata": {},
     "output_type": "execute_result"
    }
   ],
   "source": [
    "df3 = df[df['thumbsUpCount'] <= top_20_percent_threshold].copy()\n",
    "df3.shape"
   ]
  },
  {
   "cell_type": "code",
   "execution_count": 20,
   "metadata": {},
   "outputs": [
    {
     "data": {
      "text/plain": [
       "Text(0, 0.5, 'Number of ThumbsUp')"
      ]
     },
     "execution_count": 20,
     "metadata": {},
     "output_type": "execute_result"
    },
    {
     "data": {
      "image/png": "[encoded data removed]",
      "text/plain": [
       "<Figure size 640x480 with 1 Axes>"
      ]
     },
     "metadata": {},
     "output_type": "display_data"
    }
   ],
   "source": [
    "plt.bar(b.index, b.values, color = 'skyblue')\n",
    "plt.xlabel('Rating')\n",
    "plt.ylabel('Number of ThumbsUp')"
   ]
  },
  {
   "cell_type": "markdown",
   "metadata": {},
   "source": [
    "## remove emoji"
   ]
  },
  {
   "cell_type": "code",
   "execution_count": 21,
   "metadata": {},
   "outputs": [
    {
     "name": "stderr",
     "output_type": "stream",
     "text": [
      "/tmp/ipykernel_9732/4278455998.py:13: SettingWithCopyWarning: \n",
      "A value is trying to be set on a copy of a slice from a DataFrame.\n",
      "Try using .loc[row_indexer,col_indexer] = value instead\n",
      "\n",
      "See the caveats in the documentation: https://pandas.pydata.org/pandas-docs/stable/user_guide/indexing.html#returning-a-view-versus-a-copy\n",
      "  df['content'] = df['content'].apply(remove_emojis)\n"
     ]
    },
    {
     "data": {
      "text/plain": [
       "0         please bring back some old shows that got a lo...\n",
       "1                                                 Thank you\n",
       "2         geat free games but we wantMinecraft java edition\n",
       "3                                Won't open on my phone....\n",
       "4                                   User friendly, helpful.\n",
       "                                ...                        \n",
       "110413    i really like it! there are so many movies and...\n",
       "110414     I love Netflix. I always enjoy my time using it.\n",
       "110415                 Sound quality is very slow of movies\n",
       "110416    Rate is very expensive.. bcos we see netflix s...\n",
       "110417    this app is awesome for english movies ,series...\n",
       "Name: content, Length: 89956, dtype: object"
      ]
     },
     "execution_count": 21,
     "metadata": {},
     "output_type": "execute_result"
    }
   ],
   "source": [
    "def remove_emojis(text):\n",
    "    emoji_pattern = re.compile(\n",
    "        \"[\"\n",
    "        u\"\\U0001F600-\\U0001F64F\"  # emoticons\n",
    "        u\"\\U0001F300-\\U0001F5FF\"  # symbols & pictographs\n",
    "        u\"\\U0001F680-\\U0001F6FF\"  # transport & map symbols\n",
    "        u\"\\U0001F1E0-\\U0001F1FF\"  # flags (iOS)\n",
    "        u\"\\U00002702-\\U000027B0\"\n",
    "        u\"\\U000024C2-\\U0001F251\"\n",
    "        \"]+\", flags=re.UNICODE)\n",
    "    return emoji_pattern.sub(r'', text)\n",
    "\n",
    "df['content'] = df['content'].apply(remove_emojis)\n",
    "df['content']\n",
    "##\n",
    "df2['content'] = df2['content'].apply(remove_emojis)\n",
    "df2['content']\n",
    "##\n",
    "df3['content'] = df3['content'].apply(remove_emojis)\n",
    "df3['content']"
   ]
  },
  {
   "cell_type": "code",
   "execution_count": 22,
   "metadata": {},
   "outputs": [],
   "source": [
    "ps = PorterStemmer() \n",
    "stop = set(stopwords.words('english'))\n",
    "\n",
    "def pre_processing_by_nltk(doc, need_sent = False):\n",
    "    sentences = sent_tokenize(doc)\n",
    "    tokens = []\n",
    "    for sent in sentences:\n",
    "        words = word_tokenize(sent)\n",
    "        words = [ps.stem(word) for word in words]\n",
    "        tokens += words\n",
    "    return [w.lower() for w in tokens if w.lower() not in stop]"
   ]
  },
  {
   "cell_type": "code",
   "execution_count": 23,
   "metadata": {},
   "outputs": [
    {
     "data": {
      "application/vnd.microsoft.datawrangler.viewer.v0+json": {
       "columns": [
        {
         "name": "index",
         "rawType": "int64",
         "type": "integer"
        },
        {
         "name": "content",
         "rawType": "object",
         "type": "string"
        },
        {
         "name": "score",
         "rawType": "int64",
         "type": "integer"
        },
        {
         "name": "thumbsUpCount",
         "rawType": "int64",
         "type": "integer"
        },
        {
         "name": "at",
         "rawType": "object",
         "type": "string"
        },
        {
         "name": "score_bond",
         "rawType": "object",
         "type": "string"
        }
       ],
       "conversionMethod": "pd.DataFrame",
       "ref": "5f21348e-3226-4c2c-9d6c-4ddec110e791",
       "rows": [
        [
         "66521",
         "Sad that this company has to resort to creative malpractices in order to make their Games more popular. Why would I come to Netflix app to play Games? I will infact unsubscribe this stupid service if you keep shoving Games down our throats.",
         "1",
         "1",
         "2023-07-30 14:42:58",
         "negative"
        ],
        [
         "75965",
         "Even though deleted the login account But still every month subscription amt of INR 199/- is been deducted from my debit card from past 10 months pls fix the issue",
         "1",
         "0",
         "2021-06-03 17:25:24",
         "negative"
        ],
        [
         "49525",
         "Flicks Netflix is my favorite movie and I can watch everything is so different on there it's like so cool like whatever movie whatever I want and I just was nine years I watch every movie it's my favorite",
         "5",
         "0",
         "2023-02-05 09:43:53",
         "positive"
        ]
       ],
       "shape": {
        "columns": 5,
        "rows": 3
       }
      },
      "text/html": [
       "<div>\n",
       "<style scoped>\n",
       "    .dataframe tbody tr th:only-of-type {\n",
       "        vertical-align: middle;\n",
       "    }\n",
       "\n",
       "    .dataframe tbody tr th {\n",
       "        vertical-align: top;\n",
       "    }\n",
       "\n",
       "    .dataframe thead th {\n",
       "        text-align: right;\n",
       "    }\n",
       "</style>\n",
       "<table border=\"1\" class=\"dataframe\">\n",
       "  <thead>\n",
       "    <tr style=\"text-align: right;\">\n",
       "      <th></th>\n",
       "      <th>content</th>\n",
       "      <th>score</th>\n",
       "      <th>thumbsUpCount</th>\n",
       "      <th>at</th>\n",
       "      <th>score_bond</th>\n",
       "    </tr>\n",
       "  </thead>\n",
       "  <tbody>\n",
       "    <tr>\n",
       "      <th>66521</th>\n",
       "      <td>Sad that this company has to resort to creativ...</td>\n",
       "      <td>1</td>\n",
       "      <td>1</td>\n",
       "      <td>2023-07-30 14:42:58</td>\n",
       "      <td>negative</td>\n",
       "    </tr>\n",
       "    <tr>\n",
       "      <th>75965</th>\n",
       "      <td>Even though deleted the login account But stil...</td>\n",
       "      <td>1</td>\n",
       "      <td>0</td>\n",
       "      <td>2021-06-03 17:25:24</td>\n",
       "      <td>negative</td>\n",
       "    </tr>\n",
       "    <tr>\n",
       "      <th>49525</th>\n",
       "      <td>Flicks Netflix is my favorite movie and I can ...</td>\n",
       "      <td>5</td>\n",
       "      <td>0</td>\n",
       "      <td>2023-02-05 09:43:53</td>\n",
       "      <td>positive</td>\n",
       "    </tr>\n",
       "  </tbody>\n",
       "</table>\n",
       "</div>"
      ],
      "text/plain": [
       "                                                 content  score  \\\n",
       "66521  Sad that this company has to resort to creativ...      1   \n",
       "75965  Even though deleted the login account But stil...      1   \n",
       "49525  Flicks Netflix is my favorite movie and I can ...      5   \n",
       "\n",
       "       thumbsUpCount                   at score_bond  \n",
       "66521              1  2023-07-30 14:42:58   negative  \n",
       "75965              0  2021-06-03 17:25:24   negative  \n",
       "49525              0  2023-02-05 09:43:53   positive  "
      ]
     },
     "metadata": {},
     "output_type": "display_data"
    },
    {
     "data": {
      "application/vnd.microsoft.datawrangler.viewer.v0+json": {
       "columns": [
        {
         "name": "index",
         "rawType": "int64",
         "type": "integer"
        },
        {
         "name": "content",
         "rawType": "object",
         "type": "string"
        },
        {
         "name": "score",
         "rawType": "int64",
         "type": "integer"
        },
        {
         "name": "thumbsUpCount",
         "rawType": "int64",
         "type": "integer"
        },
        {
         "name": "at",
         "rawType": "object",
         "type": "string"
        },
        {
         "name": "score_bond",
         "rawType": "object",
         "type": "string"
        }
       ],
       "conversionMethod": "pd.DataFrame",
       "ref": "ef6e3dff-8d9a-419d-9011-5abd9192f90f",
       "rows": [
        [
         "2450",
         "App stopped working a few weeks ago and hasn't come back, this is terrible",
         "1",
         "1",
         "2024-05-11 06:51:36",
         "negative"
        ],
        [
         "25966",
         "You can't sort \"My List\" by neither runtime nor IMDb rating.",
         "1",
         "0",
         "2024-02-04 23:02:06",
         "negative"
        ],
        [
         "25783",
         "Gta game not work for my device and problem is Your device isn't compatible with this version.",
         "2",
         "0",
         "2023-12-24 11:08:40",
         "negative"
        ]
       ],
       "shape": {
        "columns": 5,
        "rows": 3
       }
      },
      "text/html": [
       "<div>\n",
       "<style scoped>\n",
       "    .dataframe tbody tr th:only-of-type {\n",
       "        vertical-align: middle;\n",
       "    }\n",
       "\n",
       "    .dataframe tbody tr th {\n",
       "        vertical-align: top;\n",
       "    }\n",
       "\n",
       "    .dataframe thead th {\n",
       "        text-align: right;\n",
       "    }\n",
       "</style>\n",
       "<table border=\"1\" class=\"dataframe\">\n",
       "  <thead>\n",
       "    <tr style=\"text-align: right;\">\n",
       "      <th></th>\n",
       "      <th>content</th>\n",
       "      <th>score</th>\n",
       "      <th>thumbsUpCount</th>\n",
       "      <th>at</th>\n",
       "      <th>score_bond</th>\n",
       "    </tr>\n",
       "  </thead>\n",
       "  <tbody>\n",
       "    <tr>\n",
       "      <th>2450</th>\n",
       "      <td>App stopped working a few weeks ago and hasn't...</td>\n",
       "      <td>1</td>\n",
       "      <td>1</td>\n",
       "      <td>2024-05-11 06:51:36</td>\n",
       "      <td>negative</td>\n",
       "    </tr>\n",
       "    <tr>\n",
       "      <th>25966</th>\n",
       "      <td>You can't sort \"My List\" by neither runtime no...</td>\n",
       "      <td>1</td>\n",
       "      <td>0</td>\n",
       "      <td>2024-02-04 23:02:06</td>\n",
       "      <td>negative</td>\n",
       "    </tr>\n",
       "    <tr>\n",
       "      <th>25783</th>\n",
       "      <td>Gta game not work for my device and problem is...</td>\n",
       "      <td>2</td>\n",
       "      <td>0</td>\n",
       "      <td>2023-12-24 11:08:40</td>\n",
       "      <td>negative</td>\n",
       "    </tr>\n",
       "  </tbody>\n",
       "</table>\n",
       "</div>"
      ],
      "text/plain": [
       "                                                 content  score  \\\n",
       "2450   App stopped working a few weeks ago and hasn't...      1   \n",
       "25966  You can't sort \"My List\" by neither runtime no...      1   \n",
       "25783  Gta game not work for my device and problem is...      2   \n",
       "\n",
       "       thumbsUpCount                   at score_bond  \n",
       "2450               1  2024-05-11 06:51:36   negative  \n",
       "25966              0  2024-02-04 23:02:06   negative  \n",
       "25783              0  2023-12-24 11:08:40   negative  "
      ]
     },
     "metadata": {},
     "output_type": "display_data"
    }
   ],
   "source": [
    "train_data, test_data = train_test_split(df, test_size=0.2, random_state=42, shuffle=True)\n",
    "display(train_data.head(3))\n",
    "display(test_data.head(3))\n",
    "##\n",
    "train_data2, test_data2 = train_test_split(df2, test_size=0.2, random_state=42, shuffle=True)\n",
    "# display(train_data2.head(3))\n",
    "# display(test_data2.head(3))\n",
    "##\n",
    "train_data3, test_data3 = train_test_split(df3, test_size=0.2, random_state=42, shuffle=True)\n",
    "# display(train_data3.head(3))\n",
    "# display(test_data3.head(3))"
   ]
  },
  {
   "cell_type": "code",
   "execution_count": 24,
   "metadata": {},
   "outputs": [
    {
     "name": "stderr",
     "output_type": "stream",
     "text": [
      "/opt/conda/lib/python3.11/site-packages/sklearn/feature_extraction/text.py:521: UserWarning: The parameter 'token_pattern' will not be used since 'tokenizer' is not None'\n",
      "  warnings.warn(\n"
     ]
    }
   ],
   "source": [
    "binary_vectorizer = CountVectorizer(binary=True, tokenizer=pre_processing_by_nltk)\n",
    "X_train_binary = binary_vectorizer.fit_transform(train_data['content'])\n",
    "X_test_binary = binary_vectorizer.transform(test_data['content'])\n",
    "##\n",
    "binary_vectorizer2 = CountVectorizer(binary=True, tokenizer=pre_processing_by_nltk)\n",
    "X_train_binary2 = binary_vectorizer.fit_transform(train_data2['content'])\n",
    "X_test_binary2 = binary_vectorizer.transform(test_data2['content'])\n",
    "##\n",
    "binary_vectorizer3 = CountVectorizer(binary=True, tokenizer=pre_processing_by_nltk)\n",
    "X_train_binary3 = binary_vectorizer.fit_transform(train_data3['content'])\n",
    "X_test_binary3 = binary_vectorizer.transform(test_data3['content'])"
   ]
  },
  {
   "cell_type": "code",
   "execution_count": 25,
   "metadata": {},
   "outputs": [],
   "source": [
    "tf_vectorizer = CountVectorizer(binary=False, tokenizer=pre_processing_by_nltk)\n",
    "X_train_tf = tf_vectorizer.fit_transform(train_data['content'])\n",
    "X_test_tf = tf_vectorizer.transform(test_data['content'])\n",
    "##\n",
    "tf_vectorizer2 = CountVectorizer(binary=False, tokenizer=pre_processing_by_nltk)\n",
    "X_train_tf2 = tf_vectorizer.fit_transform(train_data2['content'])\n",
    "X_test_tf2 = tf_vectorizer.transform(test_data2['content'])\n",
    "##\n",
    "tf_vectorizer3 = CountVectorizer(binary=False, tokenizer=pre_processing_by_nltk)\n",
    "X_train_tf3 = tf_vectorizer.fit_transform(train_data3['content'])\n",
    "X_test_tf3 = tf_vectorizer.transform(test_data3['content'])"
   ]
  },
  {
   "cell_type": "code",
   "execution_count": 26,
   "metadata": {},
   "outputs": [],
   "source": [
    "tfidf_vectorizer = TfidfVectorizer(tokenizer=pre_processing_by_nltk)\n",
    "X_train_tfidf = tfidf_vectorizer.fit_transform(train_data['content'])\n",
    "X_test_tfidf = tfidf_vectorizer.transform(test_data['content'])\n",
    "##\n",
    "tfidf_vectorizer2 = TfidfVectorizer(tokenizer=pre_processing_by_nltk)\n",
    "X_train_tfidf2 = tfidf_vectorizer.fit_transform(train_data2['content'])\n",
    "X_test_tfidf2 = tfidf_vectorizer.transform(test_data2['content'])\n",
    "##\n",
    "tfidf_vectorizer3 = TfidfVectorizer(tokenizer=pre_processing_by_nltk)\n",
    "X_train_tfidf3 = tfidf_vectorizer.fit_transform(train_data3['content'])\n",
    "X_test_tfidf3 = tfidf_vectorizer.transform(test_data3['content'])"
   ]
  },
  {
   "cell_type": "code",
   "execution_count": 27,
   "metadata": {},
   "outputs": [],
   "source": [
    "Y_train = train_data['score']\n",
    "Y_test = test_data['score']\n",
    "##\n",
    "Y_train2 = train_data2['score']\n",
    "Y_test2 = test_data2['score']\n",
    "##\n",
    "Y_train3 = train_data3['score']\n",
    "Y_test3 = test_data3['score']"
   ]
  },
  {
   "cell_type": "markdown",
   "metadata": {},
   "source": [
    "## using original rating"
   ]
  },
  {
   "cell_type": "code",
   "execution_count": 28,
   "metadata": {},
   "outputs": [
    {
     "name": "stdout",
     "output_type": "stream",
     "text": [
      "Model: Binary Representation\n",
      "Validation AUROC: 0.7892\n",
      "Validation Macro-F1: 0.4583\n",
      "Validation Micro-F1: 0.5587\n",
      "--------------------------------------------------\n"
     ]
    },
    {
     "name": "stderr",
     "output_type": "stream",
     "text": [
      "/opt/conda/lib/python3.11/site-packages/sklearn/linear_model/_sag.py:349: ConvergenceWarning: The max_iter was reached which means the coef_ did not converge\n",
      "  warnings.warn(\n"
     ]
    },
    {
     "name": "stdout",
     "output_type": "stream",
     "text": [
      "Model: Term Frequency Representation\n",
      "Validation AUROC: 0.8030\n",
      "Validation Macro-F1: 0.4683\n",
      "Validation Micro-F1: 0.5647\n",
      "--------------------------------------------------\n",
      "Model: TF-IDF Representation\n",
      "Validation AUROC: 0.8076\n",
      "Validation Macro-F1: 0.4654\n",
      "Validation Micro-F1: 0.5574\n",
      "--------------------------------------------------\n"
     ]
    }
   ],
   "source": [
    "def train_and_test(X_train, X_test, y_train, y_test, model_name):\n",
    "    clf = LogisticRegression(max_iter=1000, solver='saga', random_state=42,  class_weight='balanced')\n",
    "    clf.fit(X_train, y_train)\n",
    "    \n",
    "    y_test_pred = clf.predict(X_test)\n",
    "    y_test_proba = clf.predict_proba(X_test)\n",
    "\n",
    "    auroc = roc_auc_score(y_test, y_test_proba, multi_class=\"ovr\")\n",
    "    macro_f1 = f1_score(y_test, y_test_pred, average='macro')\n",
    "    micro_f1 = f1_score(y_test, y_test_pred, average='micro')\n",
    "\n",
    "    print(f\"Model: {model_name}\")\n",
    "    print(f\"Validation AUROC: {auroc:.4f}\")\n",
    "    print(f\"Validation Macro-F1: {macro_f1:.4f}\")\n",
    "    print(f\"Validation Micro-F1: {micro_f1:.4f}\")\n",
    "    print(\"-\" * 50)\n",
    "\n",
    "    return clf \n",
    "\n",
    "clf_binary = train_and_test(X_train_binary, X_test_binary, Y_train, Y_test, \"Binary Representation\")\n",
    "clf_tf = train_and_test(X_train_tf, X_test_tf, Y_train, Y_test, \"Term Frequency Representation\")\n",
    "clf_tfidf = train_and_test(X_train_tfidf, X_test_tfidf, Y_train, Y_test, \"TF-IDF Representation\")"
   ]
  },
  {
   "cell_type": "code",
   "execution_count": 29,
   "metadata": {},
   "outputs": [],
   "source": [
    "y_test_proba_or_binary = clf_binary.predict_proba(X_test_binary)\n",
    "y_test_pred_or_binary = clf_binary.predict(X_test_binary)\n",
    "auroc_or_binary = roc_auc_score(Y_test, y_test_proba_or_binary, multi_class=\"ovr\")\n",
    "macro_f1_or_binary = f1_score(Y_test, y_test_pred_or_binary, average='macro')\n",
    "micro_f1_or_binary = f1_score(Y_test, y_test_pred_or_binary, average='micro')\n",
    "\n",
    "y_test_proba_or_tf = clf_tf.predict_proba(X_test_tf)\n",
    "y_test_pred_or_tf = clf_tf.predict(X_test_tf)\n",
    "auroc_or_tf = roc_auc_score(Y_test, y_test_proba_or_tf, multi_class=\"ovr\")\n",
    "macro_f1_or_tf = f1_score(Y_test, y_test_pred_or_tf, average='macro')\n",
    "micro_f1_or_tf = f1_score(Y_test, y_test_pred_or_tf, average='micro')\n",
    "\n",
    "y_test_proba_or_tfidf = clf_tfidf.predict_proba(X_test_tfidf)\n",
    "y_test_pred_or_tfidf = clf_tfidf.predict(X_test_tfidf)\n",
    "auroc_or_tfidf = roc_auc_score(Y_test, y_test_proba_or_tfidf, multi_class=\"ovr\")\n",
    "macro_f1_or_tfidf = f1_score(Y_test, y_test_pred_or_tfidf, average='macro')\n",
    "micro_f1_or_tfidf = f1_score(Y_test, y_test_pred_or_tfidf, average='micro')"
   ]
  },
  {
   "cell_type": "markdown",
   "metadata": {},
   "source": [
    "## using original rating with thumbsUpCount feature"
   ]
  },
  {
   "cell_type": "code",
   "execution_count": 30,
   "metadata": {},
   "outputs": [
    {
     "name": "stderr",
     "output_type": "stream",
     "text": [
      "/opt/conda/lib/python3.11/site-packages/sklearn/linear_model/_sag.py:349: ConvergenceWarning: The max_iter was reached which means the coef_ did not converge\n",
      "  warnings.warn(\n"
     ]
    },
    {
     "name": "stdout",
     "output_type": "stream",
     "text": [
      "Model: Binary Representation\n",
      "Validation AUROC: 0.7361\n",
      "Validation Macro-F1: 0.3685\n",
      "Validation Micro-F1: 0.4353\n",
      "--------------------------------------------------\n"
     ]
    },
    {
     "name": "stderr",
     "output_type": "stream",
     "text": [
      "/opt/conda/lib/python3.11/site-packages/sklearn/linear_model/_sag.py:349: ConvergenceWarning: The max_iter was reached which means the coef_ did not converge\n",
      "  warnings.warn(\n"
     ]
    },
    {
     "name": "stdout",
     "output_type": "stream",
     "text": [
      "Model: Term Frequency Representation\n",
      "Validation AUROC: 0.7070\n",
      "Validation Macro-F1: 0.3546\n",
      "Validation Micro-F1: 0.4307\n",
      "--------------------------------------------------\n",
      "Model: TF-IDF Representation\n",
      "Validation AUROC: 0.7311\n",
      "Validation Macro-F1: 0.3859\n",
      "Validation Micro-F1: 0.4670\n",
      "--------------------------------------------------\n"
     ]
    },
    {
     "name": "stderr",
     "output_type": "stream",
     "text": [
      "/opt/conda/lib/python3.11/site-packages/sklearn/linear_model/_sag.py:349: ConvergenceWarning: The max_iter was reached which means the coef_ did not converge\n",
      "  warnings.warn(\n"
     ]
    }
   ],
   "source": [
    "from scipy.sparse import hstack\n",
    "\n",
    "def train_and_test(X_train, X_test, y_train, y_test, model_name):\n",
    "    clf = LogisticRegression(max_iter=1000, solver='saga', random_state=42, class_weight='balanced')\n",
    "    clf.fit(X_train, y_train)\n",
    "    \n",
    "    y_test_pred = clf.predict(X_test)\n",
    "    y_test_proba = clf.predict_proba(X_test)\n",
    "\n",
    "    auroc = roc_auc_score(y_test, y_test_proba, multi_class=\"ovr\")\n",
    "    macro_f1 = f1_score(y_test, y_test_pred, average='macro')\n",
    "    micro_f1 = f1_score(y_test, y_test_pred, average='micro')\n",
    "\n",
    "    print(f\"Model: {model_name}\")\n",
    "    print(f\"Validation AUROC: {auroc:.4f}\")\n",
    "    print(f\"Validation Macro-F1: {macro_f1:.4f}\")\n",
    "    print(f\"Validation Micro-F1: {micro_f1:.4f}\")\n",
    "    print(\"-\" * 50)\n",
    "\n",
    "    return clf \n",
    "\n",
    "train_thumbs = train_data[\"thumbsUpCount\"].values.reshape(-1, 1)\n",
    "test_thumbs = test_data[\"thumbsUpCount\"].values.reshape(-1, 1)\n",
    "\n",
    "X_train_binary = hstack((X_train_binary, train_thumbs))\n",
    "X_test_binary = hstack((X_test_binary, test_thumbs))\n",
    "\n",
    "X_train_tf = hstack((X_train_tf, train_thumbs))\n",
    "X_test_tf = hstack((X_test_tf, test_thumbs))\n",
    "\n",
    "X_train_tfidf = hstack((X_train_tfidf, train_thumbs))\n",
    "X_test_tfidf = hstack((X_test_tfidf, test_thumbs))\n",
    "\n",
    "clf_binary = train_and_test(X_train_binary, X_test_binary, Y_train, Y_test, \"Binary Representation\")\n",
    "clf_tf = train_and_test(X_train_tf, X_test_tf, Y_train, Y_test, \"Term Frequency Representation\")\n",
    "clf_tfidf = train_and_test(X_train_tfidf, X_test_tfidf, Y_train, Y_test, \"TF-IDF Representation\")"
   ]
  },
  {
   "cell_type": "code",
   "execution_count": 31,
   "metadata": {},
   "outputs": [],
   "source": [
    "y_test_proba_or_binary_thumbs = clf_binary.predict_proba(X_test_binary)\n",
    "y_test_pred_or_binary_thumbs = clf_binary.predict(X_test_binary)\n",
    "auroc_or_binary_thumbs = roc_auc_score(Y_test, y_test_proba_or_binary_thumbs, multi_class=\"ovr\")\n",
    "macro_f1_or_binary_thumbs = f1_score(Y_test, y_test_pred_or_binary_thumbs, average='macro')\n",
    "micro_f1_or_binary_thumbs = f1_score(Y_test, y_test_pred_or_binary_thumbs, average='micro')\n",
    "\n",
    "y_test_proba_or_tf_thumbs = clf_tf.predict_proba(X_test_tf)\n",
    "y_test_pred_or_tf_thumbs = clf_tf.predict(X_test_tf)\n",
    "auroc_or_tf_thumbs = roc_auc_score(Y_test, y_test_proba_or_tf_thumbs, multi_class=\"ovr\")\n",
    "macro_f1_or_tf_thumbs = f1_score(Y_test, y_test_pred_or_tf_thumbs, average='macro')\n",
    "micro_f1_or_tf_thumbs = f1_score(Y_test, y_test_pred_or_tf_thumbs, average='micro')\n",
    "\n",
    "y_test_proba_or_tfidf_thumbs = clf_tfidf.predict_proba(X_test_tfidf)\n",
    "y_test_pred_or_tfidf_thumbs = clf_tfidf.predict(X_test_tfidf)\n",
    "auroc_or_tfidf_thumbs = roc_auc_score(Y_test, y_test_proba_or_tfidf_thumbs, multi_class=\"ovr\")\n",
    "macro_f1_or_tfidf_thumbs = f1_score(Y_test, y_test_pred_or_tfidf_thumbs, average='macro')\n",
    "micro_f1_or_tfidf_thumbs = f1_score(Y_test, y_test_pred_or_tfidf_thumbs, average='micro')"
   ]
  },
  {
   "cell_type": "code",
   "execution_count": 32,
   "metadata": {},
   "outputs": [
    {
     "name": "stdout",
     "output_type": "stream",
     "text": [
      "Model: Binary Representation\n",
      "Validation AUROC: 0.7901\n",
      "Validation Macro-F1: 0.4499\n",
      "Validation Micro-F1: 0.5596\n",
      "--------------------------------------------------\n"
     ]
    },
    {
     "name": "stderr",
     "output_type": "stream",
     "text": [
      "/opt/conda/lib/python3.11/site-packages/sklearn/linear_model/_sag.py:349: ConvergenceWarning: The max_iter was reached which means the coef_ did not converge\n",
      "  warnings.warn(\n"
     ]
    },
    {
     "name": "stdout",
     "output_type": "stream",
     "text": [
      "Model: Term Frequency Representation\n",
      "Validation AUROC: 0.8041\n",
      "Validation Macro-F1: 0.4643\n",
      "Validation Micro-F1: 0.5660\n",
      "--------------------------------------------------\n",
      "Model: TF-IDF Representation\n",
      "Validation AUROC: 0.8069\n",
      "Validation Macro-F1: 0.4617\n",
      "Validation Micro-F1: 0.5628\n",
      "--------------------------------------------------\n"
     ]
    }
   ],
   "source": [
    "from scipy.sparse import hstack\n",
    "\n",
    "def train_and_test(X_train, X_test, y_train, y_test, model_name):\n",
    "    clf = LogisticRegression(max_iter=1000, solver='saga', random_state=42, class_weight='balanced')\n",
    "    clf.fit(X_train, y_train)\n",
    "    \n",
    "    y_test_pred = clf.predict(X_test)\n",
    "    y_test_proba = clf.predict_proba(X_test)\n",
    "\n",
    "    auroc = roc_auc_score(y_test, y_test_proba, multi_class=\"ovr\")\n",
    "    macro_f1 = f1_score(y_test, y_test_pred, average='macro')\n",
    "    micro_f1 = f1_score(y_test, y_test_pred, average='micro')\n",
    "\n",
    "    print(f\"Model: {model_name}\")\n",
    "    print(f\"Validation AUROC: {auroc:.4f}\")\n",
    "    print(f\"Validation Macro-F1: {macro_f1:.4f}\")\n",
    "    print(f\"Validation Micro-F1: {micro_f1:.4f}\")\n",
    "    print(\"-\" * 50)\n",
    "\n",
    "    return clf \n",
    "\n",
    "train_thumbs2 = train_data2[\"thumbsUpCount\"].values.reshape(-1, 1)\n",
    "test_thumbs2 = test_data2[\"thumbsUpCount\"].values.reshape(-1, 1)\n",
    "\n",
    "X_train_binary2 = hstack((X_train_binary2, train_thumbs2))\n",
    "X_test_binary2 = hstack((X_test_binary2, test_thumbs2))\n",
    "\n",
    "X_train_tf2 = hstack((X_train_tf2, train_thumbs2))\n",
    "X_test_tf2 = hstack((X_test_tf2, test_thumbs2))\n",
    "\n",
    "X_train_tfidf2 = hstack((X_train_tfidf2, train_thumbs2))\n",
    "X_test_tfidf2 = hstack((X_test_tfidf2, test_thumbs2))\n",
    "\n",
    "clf_binary2 = train_and_test(X_train_binary2, X_test_binary2, Y_train2, Y_test2, \"Binary Representation\")\n",
    "clf_tf2 = train_and_test(X_train_tf2, X_test_tf2, Y_train2, Y_test2, \"Term Frequency Representation\")\n",
    "clf_tfidf2 = train_and_test(X_train_tfidf2, X_test_tfidf2, Y_train2, Y_test2, \"TF-IDF Representation\")"
   ]
  },
  {
   "cell_type": "code",
   "execution_count": 33,
   "metadata": {},
   "outputs": [
    {
     "name": "stdout",
     "output_type": "stream",
     "text": [
      "Model: Binary Representation\n",
      "Validation AUROC: 0.7916\n",
      "Validation Macro-F1: 0.4595\n",
      "Validation Micro-F1: 0.5647\n",
      "--------------------------------------------------\n"
     ]
    },
    {
     "name": "stderr",
     "output_type": "stream",
     "text": [
      "/opt/conda/lib/python3.11/site-packages/sklearn/linear_model/_sag.py:349: ConvergenceWarning: The max_iter was reached which means the coef_ did not converge\n",
      "  warnings.warn(\n"
     ]
    },
    {
     "name": "stdout",
     "output_type": "stream",
     "text": [
      "Model: Term Frequency Representation\n",
      "Validation AUROC: 0.8049\n",
      "Validation Macro-F1: 0.4674\n",
      "Validation Micro-F1: 0.5678\n",
      "--------------------------------------------------\n",
      "Model: TF-IDF Representation\n",
      "Validation AUROC: 0.8073\n",
      "Validation Macro-F1: 0.4636\n",
      "Validation Micro-F1: 0.5611\n",
      "--------------------------------------------------\n"
     ]
    }
   ],
   "source": [
    "from scipy.sparse import hstack\n",
    "\n",
    "def train_and_test(X_train, X_test, y_train, y_test, model_name):\n",
    "    clf = LogisticRegression(max_iter=1000, solver='saga', random_state=42, class_weight='balanced')\n",
    "    clf.fit(X_train, y_train)\n",
    "    \n",
    "    y_test_pred = clf.predict(X_test)\n",
    "    y_test_proba = clf.predict_proba(X_test)\n",
    "\n",
    "    auroc = roc_auc_score(y_test, y_test_proba, multi_class=\"ovr\")\n",
    "    macro_f1 = f1_score(y_test, y_test_pred, average='macro')\n",
    "    micro_f1 = f1_score(y_test, y_test_pred, average='micro')\n",
    "\n",
    "    print(f\"Model: {model_name}\")\n",
    "    print(f\"Validation AUROC: {auroc:.4f}\")\n",
    "    print(f\"Validation Macro-F1: {macro_f1:.4f}\")\n",
    "    print(f\"Validation Micro-F1: {micro_f1:.4f}\")\n",
    "    print(\"-\" * 50)\n",
    "\n",
    "    return clf \n",
    "\n",
    "train_thumbs3 = train_data3[\"thumbsUpCount\"].values.reshape(-1, 1)\n",
    "test_thumbs3 = test_data3[\"thumbsUpCount\"].values.reshape(-1, 1)\n",
    "\n",
    "X_train_binary3 = hstack((X_train_binary3, train_thumbs3))\n",
    "X_test_binary3 = hstack((X_test_binary3, test_thumbs3))\n",
    "\n",
    "X_train_tf3 = hstack((X_train_tf3, train_thumbs3))\n",
    "X_test_tf3 = hstack((X_test_tf3, test_thumbs3))\n",
    "\n",
    "X_train_tfidf3 = hstack((X_train_tfidf3, train_thumbs3))\n",
    "X_test_tfidf3 = hstack((X_test_tfidf3, test_thumbs3))\n",
    "\n",
    "clf_binary3 = train_and_test(X_train_binary3, X_test_binary3, Y_train3, Y_test3, \"Binary Representation\")\n",
    "clf_tf3 = train_and_test(X_train_tf3, X_test_tf3, Y_train3, Y_test3, \"Term Frequency Representation\")\n",
    "clf_tfidf3 = train_and_test(X_train_tfidf3, X_test_tfidf3, Y_train3, Y_test3, \"TF-IDF Representation\")"
   ]
  },
  {
   "cell_type": "code",
   "execution_count": 34,
   "metadata": {},
   "outputs": [],
   "source": [
    "y_test_proba_or_binary_thumbs3 = clf_binary3.predict_proba(X_test_binary3)\n",
    "y_test_pred_or_binary_thumbs3 = clf_binary3.predict(X_test_binary3)\n",
    "auroc_or_binary_thumbs3 = roc_auc_score(Y_test3, y_test_proba_or_binary_thumbs3, multi_class=\"ovr\")\n",
    "macro_f1_or_binary_thumbs3 = f1_score(Y_test3, y_test_pred_or_binary_thumbs3, average='macro')\n",
    "micro_f1_or_binary_thumbs3 = f1_score(Y_test3, y_test_pred_or_binary_thumbs3, average='micro')\n",
    "\n",
    "y_test_proba_or_tf_thumbs3 = clf_tf3.predict_proba(X_test_tf3)\n",
    "y_test_pred_or_tf_thumbs3 = clf_tf3.predict(X_test_tf3)\n",
    "auroc_or_tf_thumbs3 = roc_auc_score(Y_test3, y_test_proba_or_tf_thumbs3, multi_class=\"ovr\")\n",
    "macro_f1_or_tf_thumbs3 = f1_score(Y_test3, y_test_pred_or_tf_thumbs3, average='macro')\n",
    "micro_f1_or_tf_thumbs3 = f1_score(Y_test3, y_test_pred_or_tf_thumbs3, average='micro')\n",
    "\n",
    "y_test_proba_or_tfidf_thumbs3 = clf_tfidf3.predict_proba(X_test_tfidf3)\n",
    "y_test_pred_or_tfidf_thumbs3 = clf_tfidf3.predict(X_test_tfidf3)\n",
    "auroc_or_tfidf_thumbs3 = roc_auc_score(Y_test3, y_test_proba_or_tfidf_thumbs3, multi_class=\"ovr\")\n",
    "macro_f1_or_tfidf_thumbs3 = f1_score(Y_test3, y_test_pred_or_tfidf_thumbs3, average='macro')\n",
    "micro_f1_or_tfidf_thumbs3 = f1_score(Y_test3, y_test_pred_or_tfidf_thumbs3, average='micro')"
   ]
  },
  {
   "cell_type": "markdown",
   "metadata": {},
   "source": [
    "## using bonded rating"
   ]
  },
  {
   "cell_type": "code",
   "execution_count": 35,
   "metadata": {},
   "outputs": [],
   "source": [
    "Y_train_bond = train_data['score_bond']\n",
    "Y_test_bond = test_data['score_bond']\n",
    "##\n",
    "Y_train_bond2 = train_data2['score_bond']\n",
    "Y_test_bond2 = test_data2['score_bond']\n",
    "##\n",
    "Y_train_bond3 = train_data3['score_bond']\n",
    "Y_test_bond3 = test_data3['score_bond']"
   ]
  },
  {
   "cell_type": "code",
   "execution_count": 36,
   "metadata": {},
   "outputs": [
    {
     "name": "stderr",
     "output_type": "stream",
     "text": [
      "/opt/conda/lib/python3.11/site-packages/sklearn/linear_model/_sag.py:349: ConvergenceWarning: The max_iter was reached which means the coef_ did not converge\n",
      "  warnings.warn(\n"
     ]
    },
    {
     "name": "stdout",
     "output_type": "stream",
     "text": [
      "Model: Binary Representation\n",
      "Validation AUROC: 0.7858\n",
      "Validation Macro-F1: 0.5677\n",
      "Validation Micro-F1: 0.6510\n",
      "--------------------------------------------------\n"
     ]
    },
    {
     "name": "stderr",
     "output_type": "stream",
     "text": [
      "/opt/conda/lib/python3.11/site-packages/sklearn/linear_model/_sag.py:349: ConvergenceWarning: The max_iter was reached which means the coef_ did not converge\n",
      "  warnings.warn(\n"
     ]
    },
    {
     "name": "stdout",
     "output_type": "stream",
     "text": [
      "Model: Term Frequency Representation\n",
      "Validation AUROC: 0.7603\n",
      "Validation Macro-F1: 0.5424\n",
      "Validation Micro-F1: 0.6242\n",
      "--------------------------------------------------\n"
     ]
    },
    {
     "name": "stderr",
     "output_type": "stream",
     "text": [
      "/opt/conda/lib/python3.11/site-packages/sklearn/linear_model/_sag.py:349: ConvergenceWarning: The max_iter was reached which means the coef_ did not converge\n",
      "  warnings.warn(\n"
     ]
    },
    {
     "name": "stdout",
     "output_type": "stream",
     "text": [
      "Model: TF-IDF Representation\n",
      "Validation AUROC: 0.7874\n",
      "Validation Macro-F1: 0.5796\n",
      "Validation Micro-F1: 0.6676\n",
      "--------------------------------------------------\n"
     ]
    }
   ],
   "source": [
    "def train_and_test(X_train, X_test, y_train, y_test, model_name):\n",
    "    clf = LogisticRegression(max_iter=1000, solver='saga', random_state=42,  class_weight='balanced')\n",
    "    clf.fit(X_train, y_train)\n",
    "    \n",
    "    y_test_pred = clf.predict(X_test)\n",
    "    y_test_proba = clf.predict_proba(X_test)\n",
    "\n",
    "    auroc = roc_auc_score(y_test, y_test_proba, multi_class=\"ovr\")\n",
    "    macro_f1 = f1_score(y_test, y_test_pred, average='macro')\n",
    "    micro_f1 = f1_score(y_test, y_test_pred, average='micro')\n",
    "\n",
    "    print(f\"Model: {model_name}\")\n",
    "    print(f\"Validation AUROC: {auroc:.4f}\")\n",
    "    print(f\"Validation Macro-F1: {macro_f1:.4f}\")\n",
    "    print(f\"Validation Micro-F1: {micro_f1:.4f}\")\n",
    "    print(\"-\" * 50)\n",
    "\n",
    "    return clf \n",
    "\n",
    "clf_binary = train_and_test(X_train_binary, X_test_binary, Y_train_bond, Y_test_bond, \"Binary Representation\")\n",
    "clf_tf = train_and_test(X_train_tf, X_test_tf, Y_train_bond, Y_test_bond, \"Term Frequency Representation\")\n",
    "clf_tfidf = train_and_test(X_train_tfidf, X_test_tfidf, Y_train_bond, Y_test_bond, \"TF-IDF Representation\")"
   ]
  },
  {
   "cell_type": "code",
   "execution_count": 37,
   "metadata": {},
   "outputs": [],
   "source": [
    "y_test_proba_bond_binary = clf_binary.predict_proba(X_test_binary)\n",
    "y_test_pred_bond_binary = clf_binary.predict(X_test_binary)\n",
    "auroc_bond_binary = roc_auc_score(Y_test_bond, y_test_proba_bond_binary, multi_class=\"ovr\")\n",
    "macro_f1_bond_binary = f1_score(Y_test_bond, y_test_pred_bond_binary, average='macro')\n",
    "micro_f1_bond_binary = f1_score(Y_test_bond, y_test_pred_bond_binary, average='micro')\n",
    "\n",
    "y_test_proba_bond_tf = clf_tf.predict_proba(X_test_tf)\n",
    "y_test_pred_bond_tf = clf_tf.predict(X_test_tf)\n",
    "auroc_bond_tf = roc_auc_score(Y_test_bond, y_test_proba_bond_tf, multi_class=\"ovr\")\n",
    "macro_f1_bond_tf = f1_score(Y_test_bond, y_test_pred_bond_tf, average='macro')\n",
    "micro_f1_bond_tf = f1_score(Y_test_bond, y_test_pred_bond_tf, average='micro')\n",
    "\n",
    "y_test_proba_bond_tfidf = clf_tfidf.predict_proba(X_test_tfidf)\n",
    "y_test_pred_bond_tfidf = clf_tfidf.predict(X_test_tfidf)\n",
    "auroc_bond_tfidf = roc_auc_score(Y_test_bond, y_test_proba_bond_tfidf, multi_class=\"ovr\")\n",
    "macro_f1_bond_tfidf = f1_score(Y_test_bond, y_test_pred_bond_tfidf, average='macro')\n",
    "micro_f1_bond_tfidf = f1_score(Y_test_bond, y_test_pred_bond_tfidf, average='micro')"
   ]
  },
  {
   "cell_type": "markdown",
   "metadata": {},
   "source": [
    "## using bonded rating with thumbsUpCount feature"
   ]
  },
  {
   "cell_type": "code",
   "execution_count": 38,
   "metadata": {},
   "outputs": [
    {
     "name": "stderr",
     "output_type": "stream",
     "text": [
      "/opt/conda/lib/python3.11/site-packages/sklearn/linear_model/_sag.py:349: ConvergenceWarning: The max_iter was reached which means the coef_ did not converge\n",
      "  warnings.warn(\n"
     ]
    },
    {
     "name": "stdout",
     "output_type": "stream",
     "text": [
      "Model: Binary Representation\n",
      "Validation AUROC: 0.7801\n",
      "Validation Macro-F1: 0.5554\n",
      "Validation Micro-F1: 0.6331\n",
      "--------------------------------------------------\n"
     ]
    },
    {
     "name": "stderr",
     "output_type": "stream",
     "text": [
      "/opt/conda/lib/python3.11/site-packages/sklearn/linear_model/_sag.py:349: ConvergenceWarning: The max_iter was reached which means the coef_ did not converge\n",
      "  warnings.warn(\n"
     ]
    },
    {
     "name": "stdout",
     "output_type": "stream",
     "text": [
      "Model: Term Frequency Representation\n",
      "Validation AUROC: 0.7410\n",
      "Validation Macro-F1: 0.5193\n",
      "Validation Micro-F1: 0.6026\n",
      "--------------------------------------------------\n"
     ]
    },
    {
     "name": "stderr",
     "output_type": "stream",
     "text": [
      "/opt/conda/lib/python3.11/site-packages/sklearn/linear_model/_sag.py:349: ConvergenceWarning: The max_iter was reached which means the coef_ did not converge\n",
      "  warnings.warn(\n"
     ]
    },
    {
     "name": "stdout",
     "output_type": "stream",
     "text": [
      "Model: TF-IDF Representation\n",
      "Validation AUROC: 0.7808\n",
      "Validation Macro-F1: 0.5710\n",
      "Validation Micro-F1: 0.6505\n",
      "--------------------------------------------------\n"
     ]
    }
   ],
   "source": [
    "def train_and_test(X_train, X_test, y_train, y_test, model_name):\n",
    "    clf = LogisticRegression(max_iter=1000, solver='saga', random_state=42, class_weight='balanced')\n",
    "    clf.fit(X_train, y_train)\n",
    "    \n",
    "    y_test_pred = clf.predict(X_test)\n",
    "    y_test_proba = clf.predict_proba(X_test)\n",
    "\n",
    "    auroc = roc_auc_score(y_test, y_test_proba, multi_class=\"ovr\")\n",
    "    macro_f1 = f1_score(y_test, y_test_pred, average='macro')\n",
    "    micro_f1 = f1_score(y_test, y_test_pred, average='micro')\n",
    "\n",
    "    print(f\"Model: {model_name}\")\n",
    "    print(f\"Validation AUROC: {auroc:.4f}\")\n",
    "    print(f\"Validation Macro-F1: {macro_f1:.4f}\")\n",
    "    print(f\"Validation Micro-F1: {micro_f1:.4f}\")\n",
    "    print(\"-\" * 50)\n",
    "\n",
    "    return clf \n",
    "\n",
    "train_thumbs = train_data[\"thumbsUpCount\"].values.reshape(-1, 1)\n",
    "test_thumbs = test_data[\"thumbsUpCount\"].values.reshape(-1, 1)\n",
    "\n",
    "X_train_binary = hstack((X_train_binary, train_thumbs))\n",
    "X_test_binary = hstack((X_test_binary, test_thumbs))\n",
    "\n",
    "X_train_tf = hstack((X_train_tf, train_thumbs))\n",
    "X_test_tf = hstack((X_test_tf, test_thumbs))\n",
    "\n",
    "X_train_tfidf = hstack((X_train_tfidf, train_thumbs))\n",
    "X_test_tfidf = hstack((X_test_tfidf, test_thumbs))\n",
    "\n",
    "clf_binary = train_and_test(X_train_binary, X_test_binary, Y_train_bond, Y_test_bond, \"Binary Representation\")\n",
    "clf_tf = train_and_test(X_train_tf, X_test_tf, Y_train_bond, Y_test_bond, \"Term Frequency Representation\")\n",
    "clf_tfidf = train_and_test(X_train_tfidf, X_test_tfidf, Y_train_bond, Y_test_bond, \"TF-IDF Representation\")"
   ]
  },
  {
   "cell_type": "code",
   "execution_count": 39,
   "metadata": {},
   "outputs": [],
   "source": [
    "y_test_proba_bond_binary_thumb = clf_binary.predict_proba(X_test_binary)\n",
    "y_test_pred_bond_binary_thumb = clf_binary.predict(X_test_binary)\n",
    "auroc_bond_binary_thumb = roc_auc_score(Y_test_bond, y_test_proba_bond_binary_thumb, multi_class=\"ovr\")\n",
    "macro_f1_bond_binary_thumb = f1_score(Y_test_bond, y_test_pred_bond_binary_thumb, average='macro')\n",
    "micro_f1_bond_binary_thumb = f1_score(Y_test_bond, y_test_pred_bond_binary_thumb, average='micro')\n",
    "\n",
    "y_test_proba_bond_tf_thumb = clf_tf.predict_proba(X_test_tf)\n",
    "y_test_pred_bond_tf_thumb = clf_tf.predict(X_test_tf)\n",
    "auroc_bond_tf_thumb = roc_auc_score(Y_test_bond, y_test_proba_bond_tf_thumb, multi_class=\"ovr\")\n",
    "macro_f1_bond_tf_thumb = f1_score(Y_test_bond, y_test_pred_bond_tf_thumb, average='macro')\n",
    "micro_f1_bond_tf_thumb = f1_score(Y_test_bond, y_test_pred_bond_tf_thumb, average='micro')\n",
    "\n",
    "y_test_proba_bond_tfidf_thumb = clf_tfidf.predict_proba(X_test_tfidf)\n",
    "y_test_pred_bond_tfidf_thumb = clf_tfidf.predict(X_test_tfidf)\n",
    "auroc_bond_tfidf_thumb = roc_auc_score(Y_test_bond, y_test_proba_bond_tfidf_thumb, multi_class=\"ovr\")\n",
    "macro_f1_bond_tfidf_thumb = f1_score(Y_test_bond, y_test_pred_bond_tfidf_thumb, average='macro')\n",
    "micro_f1_bond_tfidf_thumb = f1_score(Y_test_bond, y_test_pred_bond_tfidf_thumb, average='micro')"
   ]
  },
  {
   "cell_type": "code",
   "execution_count": 40,
   "metadata": {},
   "outputs": [
    {
     "name": "stdout",
     "output_type": "stream",
     "text": [
      "Model: Binary Representation\n",
      "Validation AUROC: 0.8412\n",
      "Validation Macro-F1: 0.6305\n",
      "Validation Micro-F1: 0.7306\n",
      "--------------------------------------------------\n"
     ]
    },
    {
     "name": "stderr",
     "output_type": "stream",
     "text": [
      "/opt/conda/lib/python3.11/site-packages/sklearn/linear_model/_sag.py:349: ConvergenceWarning: The max_iter was reached which means the coef_ did not converge\n",
      "  warnings.warn(\n"
     ]
    },
    {
     "name": "stdout",
     "output_type": "stream",
     "text": [
      "Model: Term Frequency Representation\n",
      "Validation AUROC: 0.8527\n",
      "Validation Macro-F1: 0.6367\n",
      "Validation Micro-F1: 0.7263\n",
      "--------------------------------------------------\n",
      "Model: TF-IDF Representation\n",
      "Validation AUROC: 0.8565\n",
      "Validation Macro-F1: 0.6368\n",
      "Validation Micro-F1: 0.7268\n",
      "--------------------------------------------------\n"
     ]
    }
   ],
   "source": [
    "def train_and_test(X_train, X_test, y_train, y_test, model_name):\n",
    "    clf = LogisticRegression(max_iter=1000, solver='saga', random_state=42, class_weight='balanced')\n",
    "    clf.fit(X_train, y_train)\n",
    "    \n",
    "    y_test_pred = clf.predict(X_test)\n",
    "    y_test_proba = clf.predict_proba(X_test)\n",
    "\n",
    "    auroc = roc_auc_score(y_test, y_test_proba, multi_class=\"ovr\")\n",
    "    macro_f1 = f1_score(y_test, y_test_pred, average='macro')\n",
    "    micro_f1 = f1_score(y_test, y_test_pred, average='micro')\n",
    "\n",
    "    print(f\"Model: {model_name}\")\n",
    "    print(f\"Validation AUROC: {auroc:.4f}\")\n",
    "    print(f\"Validation Macro-F1: {macro_f1:.4f}\")\n",
    "    print(f\"Validation Micro-F1: {micro_f1:.4f}\")\n",
    "    print(\"-\" * 50)\n",
    "\n",
    "    return clf \n",
    "\n",
    "train_thumbs2 = train_data2[\"thumbsUpCount\"].values.reshape(-1, 1)\n",
    "test_thumbs2 = test_data2[\"thumbsUpCount\"].values.reshape(-1, 1)\n",
    "\n",
    "X_train_binary2 = hstack((X_train_binary2, train_thumbs2))\n",
    "X_test_binary2 = hstack((X_test_binary2, test_thumbs2))\n",
    "\n",
    "X_train_tf2 = hstack((X_train_tf2, train_thumbs2))\n",
    "X_test_tf2 = hstack((X_test_tf2, test_thumbs2))\n",
    "\n",
    "X_train_tfidf2 = hstack((X_train_tfidf2, train_thumbs2))\n",
    "X_test_tfidf2 = hstack((X_test_tfidf2, test_thumbs2))\n",
    "\n",
    "clf_binary2 = train_and_test(X_train_binary2, X_test_binary2, Y_train_bond2, Y_test_bond2, \"Binary Representation\")\n",
    "clf_tf2 = train_and_test(X_train_tf2, X_test_tf2, Y_train_bond2, Y_test_bond2, \"Term Frequency Representation\")\n",
    "clf_tfidf2 = train_and_test(X_train_tfidf2, X_test_tfidf2, Y_train_bond2, Y_test_bond2, \"TF-IDF Representation\")"
   ]
  },
  {
   "cell_type": "code",
   "execution_count": 41,
   "metadata": {},
   "outputs": [
    {
     "name": "stdout",
     "output_type": "stream",
     "text": [
      "Model: Binary Representation\n",
      "Validation AUROC: 0.8384\n",
      "Validation Macro-F1: 0.6273\n",
      "Validation Micro-F1: 0.7252\n",
      "--------------------------------------------------\n"
     ]
    },
    {
     "name": "stderr",
     "output_type": "stream",
     "text": [
      "/opt/conda/lib/python3.11/site-packages/sklearn/linear_model/_sag.py:349: ConvergenceWarning: The max_iter was reached which means the coef_ did not converge\n",
      "  warnings.warn(\n"
     ]
    },
    {
     "name": "stdout",
     "output_type": "stream",
     "text": [
      "Model: Term Frequency Representation\n",
      "Validation AUROC: 0.8500\n",
      "Validation Macro-F1: 0.6346\n",
      "Validation Micro-F1: 0.7217\n",
      "--------------------------------------------------\n",
      "Model: TF-IDF Representation\n",
      "Validation AUROC: 0.8533\n",
      "Validation Macro-F1: 0.6317\n",
      "Validation Micro-F1: 0.7192\n",
      "--------------------------------------------------\n"
     ]
    }
   ],
   "source": [
    "def train_and_test(X_train, X_test, y_train, y_test, model_name):\n",
    "    clf = LogisticRegression(max_iter=1000, solver='saga', random_state=42, class_weight='balanced')\n",
    "    clf.fit(X_train, y_train)\n",
    "    \n",
    "    y_test_pred = clf.predict(X_test)\n",
    "    y_test_proba = clf.predict_proba(X_test)\n",
    "\n",
    "    auroc = roc_auc_score(y_test, y_test_proba, multi_class=\"ovr\")\n",
    "    macro_f1 = f1_score(y_test, y_test_pred, average='macro')\n",
    "    micro_f1 = f1_score(y_test, y_test_pred, average='micro')\n",
    "\n",
    "    print(f\"Model: {model_name}\")\n",
    "    print(f\"Validation AUROC: {auroc:.4f}\")\n",
    "    print(f\"Validation Macro-F1: {macro_f1:.4f}\")\n",
    "    print(f\"Validation Micro-F1: {micro_f1:.4f}\")\n",
    "    print(\"-\" * 50)\n",
    "\n",
    "    return clf \n",
    "\n",
    "train_thumbs3 = train_data3[\"thumbsUpCount\"].values.reshape(-1, 1)\n",
    "test_thumbs3 = test_data3[\"thumbsUpCount\"].values.reshape(-1, 1)\n",
    "\n",
    "X_train_binary3 = hstack((X_train_binary3, train_thumbs3))\n",
    "X_test_binary3 = hstack((X_test_binary3, test_thumbs3))\n",
    "\n",
    "X_train_tf3 = hstack((X_train_tf3, train_thumbs3))\n",
    "X_test_tf3 = hstack((X_test_tf3, test_thumbs3))\n",
    "\n",
    "X_train_tfidf3 = hstack((X_train_tfidf3, train_thumbs3))\n",
    "X_test_tfidf3 = hstack((X_test_tfidf3, test_thumbs3))\n",
    "\n",
    "clf_binary3 = train_and_test(X_train_binary3, X_test_binary3, Y_train_bond3, Y_test_bond3, \"Binary Representation\")\n",
    "clf_tf3 = train_and_test(X_train_tf3, X_test_tf3, Y_train_bond3, Y_test_bond3, \"Term Frequency Representation\")\n",
    "clf_tfidf3 = train_and_test(X_train_tfidf3, X_test_tfidf3, Y_train_bond3, Y_test_bond3, \"TF-IDF Representation\")"
   ]
  },
  {
   "cell_type": "code",
   "execution_count": 42,
   "metadata": {},
   "outputs": [],
   "source": [
    "y_test_proba_bond_binary_thumb3 = clf_binary3.predict_proba(X_test_binary3)\n",
    "y_test_pred_bond_binary_thumb3 = clf_binary3.predict(X_test_binary3)\n",
    "auroc_bond_binary_thumb3 = roc_auc_score(Y_test_bond3, y_test_proba_bond_binary_thumb3, multi_class=\"ovr\")\n",
    "macro_f1_bond_binary_thumb3 = f1_score(Y_test_bond3, y_test_pred_bond_binary_thumb3, average='macro')\n",
    "micro_f1_bond_binary_thumb3 = f1_score(Y_test_bond3, y_test_pred_bond_binary_thumb3, average='micro')\n",
    "\n",
    "y_test_proba_bond_tf_thumb3 = clf_tf3.predict_proba(X_test_tf3)\n",
    "y_test_pred_bond_tf_thumb3 = clf_tf3.predict(X_test_tf3)\n",
    "auroc_bond_tf_thumb3 = roc_auc_score(Y_test_bond3, y_test_proba_bond_tf_thumb3, multi_class=\"ovr\")\n",
    "macro_f1_bond_tf_thumb3 = f1_score(Y_test_bond3, y_test_pred_bond_tf_thumb3, average='macro')\n",
    "micro_f1_bond_tf_thumb3 = f1_score(Y_test_bond3, y_test_pred_bond_tf_thumb3, average='micro')\n",
    "\n",
    "y_test_proba_bond_tfidf_thumb3 = clf_tfidf3.predict_proba(X_test_tfidf3)\n",
    "y_test_pred_bond_tfidf_thumb3 = clf_tfidf3.predict(X_test_tfidf3)\n",
    "auroc_bond_tfidf_thumb3 = roc_auc_score(Y_test_bond3, y_test_proba_bond_tfidf_thumb3, multi_class=\"ovr\")\n",
    "macro_f1_bond_tfidf_thumb3 = f1_score(Y_test_bond3, y_test_pred_bond_tfidf_thumb3, average='macro')\n",
    "micro_f1_bond_tfidf_thumb3 = f1_score(Y_test_bond3, y_test_pred_bond_tfidf_thumb3, average='micro')"
   ]
  },
  {
   "cell_type": "markdown",
   "metadata": {},
   "source": [
    "## Among all the thumb thresholds, setting 1 as the threshold is the best for filtering out the noise."
   ]
  },
  {
   "cell_type": "code",
   "execution_count": 43,
   "metadata": {},
   "outputs": [
    {
     "data": {
      "application/vnd.microsoft.datawrangler.viewer.v0+json": {
       "columns": [
        {
         "name": "index",
         "rawType": "int64",
         "type": "integer"
        },
        {
         "name": "Model",
         "rawType": "object",
         "type": "string"
        },
        {
         "name": "Embedding",
         "rawType": "object",
         "type": "string"
        },
        {
         "name": "Rating",
         "rawType": "object",
         "type": "string"
        },
        {
         "name": "AUROC",
         "rawType": "float64",
         "type": "float"
        },
        {
         "name": "Macro-F1",
         "rawType": "float64",
         "type": "float"
        },
        {
         "name": "Micro-F1",
         "rawType": "float64",
         "type": "float"
        }
       ],
       "conversionMethod": "pd.DataFrame",
       "ref": "4277957f-34c4-480f-adba-fda18a81e205",
       "rows": [
        [
         "0",
         "Binary",
         "No Thumbs",
         "Original",
         "0.7891655405790792",
         "0.4582830484836922",
         "0.5586850208295598"
        ],
        [
         "1",
         "Binary",
         "No Thumbs",
         "Bond",
         "0.7858192450282983",
         "0.5677145277039712",
         "0.6510143090019924"
        ],
        [
         "2",
         "Binary",
         "With Thumbs",
         "Original",
         "0.791574722047897",
         "0.4594514189402238",
         "0.5646954201867497"
        ],
        [
         "3",
         "Binary",
         "With Thumbs",
         "Bond",
         "0.8384238605848662",
         "0.6272934932924333",
         "0.7252112049799911"
        ],
        [
         "4",
         "TF",
         "No Thumbs",
         "Original",
         "0.8029651649069475",
         "0.46834736833960744",
         "0.5647074805288897"
        ],
        [
         "5",
         "TF",
         "No Thumbs",
         "Bond",
         "0.7603100127238638",
         "0.5424422779215408",
         "0.6242075710921935"
        ],
        [
         "6",
         "TF",
         "With Thumbs",
         "Original",
         "0.804851995978896",
         "0.46736367928456435",
         "0.5677523343708315"
        ],
        [
         "7",
         "TF",
         "With Thumbs",
         "Bond",
         "0.849967839476161",
         "0.6346469507566729",
         "0.7217096487327701"
        ],
        [
         "8",
         "TF-IDF",
         "No Thumbs",
         "Original",
         "0.8075839605030322",
         "0.4653517315667891",
         "0.5573718529251948"
        ],
        [
         "9",
         "TF-IDF",
         "No Thumbs",
         "Bond",
         "0.7873596145475196",
         "0.5796445682231486",
         "0.6676326752399927"
        ],
        [
         "10",
         "TF-IDF",
         "With Thumbs",
         "Original",
         "0.8073467261017404",
         "0.4635562535342994",
         "0.5611382836816363"
        ],
        [
         "11",
         "TF-IDF",
         "With Thumbs",
         "Bond",
         "0.8533175749683183",
         "0.631745896955009",
         "0.7192085371276122"
        ]
       ],
       "shape": {
        "columns": 6,
        "rows": 12
       }
      },
      "text/html": [
       "<div>\n",
       "<style scoped>\n",
       "    .dataframe tbody tr th:only-of-type {\n",
       "        vertical-align: middle;\n",
       "    }\n",
       "\n",
       "    .dataframe tbody tr th {\n",
       "        vertical-align: top;\n",
       "    }\n",
       "\n",
       "    .dataframe thead th {\n",
       "        text-align: right;\n",
       "    }\n",
       "</style>\n",
       "<table border=\"1\" class=\"dataframe\">\n",
       "  <thead>\n",
       "    <tr style=\"text-align: right;\">\n",
       "      <th></th>\n",
       "      <th>Model</th>\n",
       "      <th>Embedding</th>\n",
       "      <th>Rating</th>\n",
       "      <th>AUROC</th>\n",
       "      <th>Macro-F1</th>\n",
       "      <th>Micro-F1</th>\n",
       "    </tr>\n",
       "  </thead>\n",
       "  <tbody>\n",
       "    <tr>\n",
       "      <th>0</th>\n",
       "      <td>Binary</td>\n",
       "      <td>No Thumbs</td>\n",
       "      <td>Original</td>\n",
       "      <td>0.789166</td>\n",
       "      <td>0.458283</td>\n",
       "      <td>0.558685</td>\n",
       "    </tr>\n",
       "    <tr>\n",
       "      <th>1</th>\n",
       "      <td>Binary</td>\n",
       "      <td>No Thumbs</td>\n",
       "      <td>Bond</td>\n",
       "      <td>0.785819</td>\n",
       "      <td>0.567715</td>\n",
       "      <td>0.651014</td>\n",
       "    </tr>\n",
       "    <tr>\n",
       "      <th>2</th>\n",
       "      <td>Binary</td>\n",
       "      <td>With Thumbs</td>\n",
       "      <td>Original</td>\n",
       "      <td>0.791575</td>\n",
       "      <td>0.459451</td>\n",
       "      <td>0.564695</td>\n",
       "    </tr>\n",
       "    <tr>\n",
       "      <th>3</th>\n",
       "      <td>Binary</td>\n",
       "      <td>With Thumbs</td>\n",
       "      <td>Bond</td>\n",
       "      <td>0.838424</td>\n",
       "      <td>0.627293</td>\n",
       "      <td>0.725211</td>\n",
       "    </tr>\n",
       "    <tr>\n",
       "      <th>4</th>\n",
       "      <td>TF</td>\n",
       "      <td>No Thumbs</td>\n",
       "      <td>Original</td>\n",
       "      <td>0.802965</td>\n",
       "      <td>0.468347</td>\n",
       "      <td>0.564707</td>\n",
       "    </tr>\n",
       "    <tr>\n",
       "      <th>5</th>\n",
       "      <td>TF</td>\n",
       "      <td>No Thumbs</td>\n",
       "      <td>Bond</td>\n",
       "      <td>0.760310</td>\n",
       "      <td>0.542442</td>\n",
       "      <td>0.624208</td>\n",
       "    </tr>\n",
       "    <tr>\n",
       "      <th>6</th>\n",
       "      <td>TF</td>\n",
       "      <td>With Thumbs</td>\n",
       "      <td>Original</td>\n",
       "      <td>0.804852</td>\n",
       "      <td>0.467364</td>\n",
       "      <td>0.567752</td>\n",
       "    </tr>\n",
       "    <tr>\n",
       "      <th>7</th>\n",
       "      <td>TF</td>\n",
       "      <td>With Thumbs</td>\n",
       "      <td>Bond</td>\n",
       "      <td>0.849968</td>\n",
       "      <td>0.634647</td>\n",
       "      <td>0.721710</td>\n",
       "    </tr>\n",
       "    <tr>\n",
       "      <th>8</th>\n",
       "      <td>TF-IDF</td>\n",
       "      <td>No Thumbs</td>\n",
       "      <td>Original</td>\n",
       "      <td>0.807584</td>\n",
       "      <td>0.465352</td>\n",
       "      <td>0.557372</td>\n",
       "    </tr>\n",
       "    <tr>\n",
       "      <th>9</th>\n",
       "      <td>TF-IDF</td>\n",
       "      <td>No Thumbs</td>\n",
       "      <td>Bond</td>\n",
       "      <td>0.787360</td>\n",
       "      <td>0.579645</td>\n",
       "      <td>0.667633</td>\n",
       "    </tr>\n",
       "    <tr>\n",
       "      <th>10</th>\n",
       "      <td>TF-IDF</td>\n",
       "      <td>With Thumbs</td>\n",
       "      <td>Original</td>\n",
       "      <td>0.807347</td>\n",
       "      <td>0.463556</td>\n",
       "      <td>0.561138</td>\n",
       "    </tr>\n",
       "    <tr>\n",
       "      <th>11</th>\n",
       "      <td>TF-IDF</td>\n",
       "      <td>With Thumbs</td>\n",
       "      <td>Bond</td>\n",
       "      <td>0.853318</td>\n",
       "      <td>0.631746</td>\n",
       "      <td>0.719209</td>\n",
       "    </tr>\n",
       "  </tbody>\n",
       "</table>\n",
       "</div>"
      ],
      "text/plain": [
       "     Model    Embedding    Rating     AUROC  Macro-F1  Micro-F1\n",
       "0   Binary    No Thumbs  Original  0.789166  0.458283  0.558685\n",
       "1   Binary    No Thumbs      Bond  0.785819  0.567715  0.651014\n",
       "2   Binary  With Thumbs  Original  0.791575  0.459451  0.564695\n",
       "3   Binary  With Thumbs      Bond  0.838424  0.627293  0.725211\n",
       "4       TF    No Thumbs  Original  0.802965  0.468347  0.564707\n",
       "5       TF    No Thumbs      Bond  0.760310  0.542442  0.624208\n",
       "6       TF  With Thumbs  Original  0.804852  0.467364  0.567752\n",
       "7       TF  With Thumbs      Bond  0.849968  0.634647  0.721710\n",
       "8   TF-IDF    No Thumbs  Original  0.807584  0.465352  0.557372\n",
       "9   TF-IDF    No Thumbs      Bond  0.787360  0.579645  0.667633\n",
       "10  TF-IDF  With Thumbs  Original  0.807347  0.463556  0.561138\n",
       "11  TF-IDF  With Thumbs      Bond  0.853318  0.631746  0.719209"
      ]
     },
     "execution_count": 43,
     "metadata": {},
     "output_type": "execute_result"
    }
   ],
   "source": [
    "compare_table = pd.DataFrame({\n",
    "    'Model' : ['Binary', 'Binary', 'Binary', 'Binary', 'TF', 'TF', 'TF', 'TF', 'TF-IDF', 'TF-IDF', 'TF-IDF', 'TF-IDF'],\n",
    "    'Embedding': ['No Thumbs', 'No Thumbs', 'With Thumbs', 'With Thumbs', 'No Thumbs', 'No Thumbs', 'With Thumbs', 'With Thumbs', 'No Thumbs', 'No Thumbs', 'With Thumbs', 'With Thumbs'],\n",
    "    'Rating': ['Original', 'Bond', 'Original', 'Bond', 'Original', 'Bond', 'Original', 'Bond', 'Original', 'Bond', 'Original', 'Bond'],\n",
    "    'AUROC' : [auroc_or_binary, auroc_bond_binary, auroc_or_binary_thumbs3, auroc_bond_binary_thumb3,\n",
    "               auroc_or_tf, auroc_bond_tf, auroc_or_tf_thumbs3, auroc_bond_tf_thumb3, \n",
    "               auroc_or_tfidf, auroc_bond_tfidf, auroc_or_tfidf_thumbs3, auroc_bond_tfidf_thumb3],\n",
    "    \n",
    "    'Macro-F1' : [macro_f1_or_binary, macro_f1_bond_binary, macro_f1_or_binary_thumbs3, macro_f1_bond_binary_thumb3,\n",
    "                  macro_f1_or_tf, macro_f1_bond_tf, macro_f1_or_tf_thumbs3, macro_f1_bond_tf_thumb3,\n",
    "                  macro_f1_or_tfidf, macro_f1_bond_tfidf, macro_f1_or_tfidf_thumbs3, macro_f1_bond_tfidf_thumb3],\n",
    "    \n",
    "    'Micro-F1' : [micro_f1_or_binary, micro_f1_bond_binary, micro_f1_or_binary_thumbs3, micro_f1_bond_binary_thumb3,\n",
    "                  micro_f1_or_tf, micro_f1_bond_tf, micro_f1_or_tf_thumbs3, micro_f1_bond_tf_thumb3,\n",
    "                  micro_f1_or_tfidf, micro_f1_bond_tfidf, micro_f1_or_tfidf_thumbs3, micro_f1_bond_tfidf_thumb3]\n",
    "})\n",
    "compare_table"
   ]
  },
  {
   "cell_type": "code",
   "execution_count": 44,
   "metadata": {},
   "outputs": [],
   "source": [
    "#prediction = predict_emotion(\"It is very easy to work with and even the kids love it!\")\n",
    "#print(prediction)"
   ]
  },
  {
   "cell_type": "code",
   "execution_count": 45,
   "metadata": {},
   "outputs": [
    {
     "data": {
      "image/png": "[encoded data removed]",
      "text/plain": [
       "<Figure size 1400x600 with 1 Axes>"
      ]
     },
     "metadata": {},
     "output_type": "display_data"
    },
    {
     "data": {
      "image/png": "[encoded data removed]",
      "text/plain": [
       "<Figure size 1400x600 with 1 Axes>"
      ]
     },
     "metadata": {},
     "output_type": "display_data"
    },
    {
     "data": {
      "image/png": "[encoded data removed]",
      "text/plain": [
       "<Figure size 1400x600 with 1 Axes>"
      ]
     },
     "metadata": {},
     "output_type": "display_data"
    }
   ],
   "source": [
    "import matplotlib.pyplot as plt\n",
    "\n",
    "# Plot AUROC\n",
    "plt.figure(figsize=(14, 6))\n",
    "plt.bar([f\"{model}_{embedding}_{rating}\" for model, embedding, rating in zip(compare_table['Model'], compare_table['Embedding'], compare_table['Rating'])], compare_table['AUROC'], color='skyblue')\n",
    "plt.xlabel('Model')\n",
    "plt.ylabel('AUROC')\n",
    "plt.title('AUROC Comparison')\n",
    "plt.xticks(rotation=90)\n",
    "plt.show()\n",
    "\n",
    "# Plot Macro-F1\n",
    "plt.figure(figsize=(14, 6))\n",
    "plt.bar([f\"{model}_{embedding}_{rating}\" for model, embedding, rating in zip(compare_table['Model'], compare_table['Embedding'], compare_table['Rating'])], compare_table['Macro-F1'], color='lightcoral')\n",
    "plt.xlabel('Model')\n",
    "plt.ylabel('Macro-F1')\n",
    "plt.title('Macro-F1 Comparison')\n",
    "plt.xticks(rotation=90)\n",
    "plt.show()\n",
    "\n",
    "# Plot Micro-F1\n",
    "plt.figure(figsize=(14, 6))\n",
    "plt.bar([f\"{model}_{embedding}_{rating}\" for model, embedding, rating in zip(compare_table['Model'], compare_table['Embedding'], compare_table['Rating'])], compare_table['Micro-F1'], color='gold')\n",
    "plt.xlabel('Model')\n",
    "plt.ylabel('Micro-F1')\n",
    "plt.title('Micro-F1 Comparison')\n",
    "plt.xticks(rotation=90)\n",
    "plt.show()"
   ]
  },
  {
   "cell_type": "markdown",
   "metadata": {},
   "source": [
    "<h3>According to the result, the best model among binary, tf, and tf-idf, between original and bonded rating, between using thumbsUpCount and not using thumbsUpCount, the best model is using bonded rating with thumbsUpCount feature, and tf-idf as the vectorizer."
   ]
  },
  {
   "cell_type": "markdown",
   "metadata": {},
   "source": [
    "## Word2Vec"
   ]
  },
  {
   "cell_type": "markdown",
   "metadata": {},
   "source": [
    "### Using original rating"
   ]
  },
  {
   "cell_type": "code",
   "execution_count": 46,
   "metadata": {},
   "outputs": [
    {
     "name": "stdout",
     "output_type": "stream",
     "text": [
      "Model: Word2Vec Representation\n",
      "Validation AUROC: 0.7905\n",
      "Validation Macro-F1: 0.4456\n",
      "Validation Micro-F1: 0.5385\n",
      "--------------------------------------------------\n"
     ]
    }
   ],
   "source": [
    "from gensim.models import Word2Vec\n",
    "\n",
    "def preprocess_text(text):\n",
    "    return pre_processing_by_nltk(text)\n",
    "\n",
    "sentences = [preprocess_text(doc) for doc in train_data['content']]\n",
    "word2vec_model = Word2Vec(sentences, vector_size=100, window=5, min_count=1, workers=4)\n",
    "\n",
    "def get_word2vec_embeddings(text, model, vector_size=100):\n",
    "    words = preprocess_text(text)\n",
    "    embeddings = np.zeros(vector_size)\n",
    "    valid_words = 0\n",
    "    for word in words:\n",
    "        if word in model.wv:\n",
    "            embeddings += model.wv[word]\n",
    "            valid_words += 1\n",
    "    if valid_words > 0:\n",
    "        embeddings /= valid_words\n",
    "    return embeddings\n",
    "\n",
    "X_train_word2vec = np.array([get_word2vec_embeddings(doc, word2vec_model) for doc in train_data['content']])\n",
    "X_test_word2vec = np.array([get_word2vec_embeddings(doc, word2vec_model) for doc in test_data['content']])\n",
    "\n",
    "clf_word2vec = LogisticRegression(max_iter=1000, solver='saga', random_state=42, class_weight='balanced')\n",
    "clf_word2vec.fit(X_train_word2vec, Y_train)\n",
    "\n",
    "y_test_pred_word2vec = clf_word2vec.predict(X_test_word2vec)\n",
    "y_test_proba_word2vec = clf_word2vec.predict_proba(X_test_word2vec)\n",
    "\n",
    "auroc_word2vec_or = roc_auc_score(Y_test, y_test_proba_word2vec, multi_class=\"ovr\")\n",
    "macro_f1_word2vec_or = f1_score(Y_test, y_test_pred_word2vec, average='macro')\n",
    "micro_f1_word2vec_or = f1_score(Y_test, y_test_pred_word2vec, average='micro')\n",
    "\n",
    "print(f\"Model: Word2Vec Representation\")\n",
    "print(f\"Validation AUROC: {auroc_word2vec_or:.4f}\")\n",
    "print(f\"Validation Macro-F1: {macro_f1_word2vec_or:.4f}\")\n",
    "print(f\"Validation Micro-F1: {micro_f1_word2vec_or:.4f}\")\n",
    "print(\"-\" * 50)"
   ]
  },
  {
   "cell_type": "markdown",
   "metadata": {},
   "source": [
    "## Using original rating with thumbsUpCount feature"
   ]
  },
  {
   "cell_type": "code",
   "execution_count": 47,
   "metadata": {},
   "outputs": [
    {
     "name": "stdout",
     "output_type": "stream",
     "text": [
      "Model: Word2Vec Representation with ThumbsUpCount\n",
      "Validation AUROC: 0.7414\n",
      "Validation Macro-F1: 0.3952\n",
      "Validation Micro-F1: 0.5279\n",
      "--------------------------------------------------\n"
     ]
    },
    {
     "name": "stderr",
     "output_type": "stream",
     "text": [
      "/opt/conda/lib/python3.11/site-packages/sklearn/linear_model/_sag.py:349: ConvergenceWarning: The max_iter was reached which means the coef_ did not converge\n",
      "  warnings.warn(\n"
     ]
    }
   ],
   "source": [
    "\n",
    "def preprocess_text(text):\n",
    "    return pre_processing_by_nltk(text)\n",
    "\n",
    "sentences = [preprocess_text(doc) for doc in train_data['content']]\n",
    "word2vec_model = Word2Vec(sentences, vector_size=100, window=5, min_count=1, workers=4)\n",
    "\n",
    "def get_word2vec_embeddings(text, model, vector_size=100):\n",
    "    words = preprocess_text(text)\n",
    "    embeddings = np.zeros(vector_size)\n",
    "    valid_words = 0\n",
    "    for word in words:\n",
    "        if word in model.wv:\n",
    "            embeddings += model.wv[word]\n",
    "            valid_words += 1\n",
    "    if valid_words > 0:\n",
    "        embeddings /= valid_words\n",
    "    return embeddings\n",
    "\n",
    "X_train_word2vec = np.array([get_word2vec_embeddings(doc, word2vec_model) for doc in train_data['content']])\n",
    "X_test_word2vec = np.array([get_word2vec_embeddings(doc, word2vec_model) for doc in test_data['content']])\n",
    "\n",
    "X_train_word2vec = np.hstack((X_train_word2vec, train_thumbs.reshape(-1, 1)))\n",
    "X_test_word2vec = np.hstack((X_test_word2vec, test_thumbs.reshape(-1, 1)))\n",
    "\n",
    "clf_word2vec = LogisticRegression(max_iter=1000, solver='saga', random_state=42, class_weight='balanced')\n",
    "clf_word2vec.fit(X_train_word2vec, Y_train)\n",
    "\n",
    "y_test_pred_word2vec = clf_word2vec.predict(X_test_word2vec)\n",
    "y_test_proba_word2vec = clf_word2vec.predict_proba(X_test_word2vec)\n",
    "\n",
    "auroc_word2vec_or_thumb = roc_auc_score(Y_test, y_test_proba_word2vec, multi_class=\"ovr\")\n",
    "macro_f1_word2vec_or_thumb = f1_score(Y_test, y_test_pred_word2vec, average='macro')\n",
    "micro_f1_word2vec_or_thumb = f1_score(Y_test, y_test_pred_word2vec, average='micro')\n",
    "\n",
    "print(f\"Model: Word2Vec Representation with ThumbsUpCount\")\n",
    "print(f\"Validation AUROC: {auroc_word2vec_or_thumb:.4f}\")\n",
    "print(f\"Validation Macro-F1: {macro_f1_word2vec_or_thumb:.4f}\")\n",
    "print(f\"Validation Micro-F1: {micro_f1_word2vec_or_thumb:.4f}\")\n",
    "print(\"-\" * 50)"
   ]
  },
  {
   "cell_type": "markdown",
   "metadata": {},
   "source": [
    "## Using bonded rating"
   ]
  },
  {
   "cell_type": "code",
   "execution_count": 48,
   "metadata": {},
   "outputs": [
    {
     "name": "stdout",
     "output_type": "stream",
     "text": [
      "Model: Word2Vec Representation with Bonded Rating\n",
      "Validation AUROC: 0.8398\n",
      "Validation Macro-F1: 0.6186\n",
      "Validation Micro-F1: 0.6942\n",
      "--------------------------------------------------\n"
     ]
    }
   ],
   "source": [
    "def preprocess_text(text):\n",
    "    return pre_processing_by_nltk(text)\n",
    "\n",
    "sentences = [preprocess_text(doc) for doc in train_data['content']]\n",
    "word2vec_model = Word2Vec(sentences, vector_size=100, window=5, min_count=1, workers=4)\n",
    "\n",
    "def get_word2vec_embeddings(text, model, vector_size=100):\n",
    "    words = preprocess_text(text)\n",
    "    embeddings = np.zeros(vector_size)\n",
    "    valid_words = 0\n",
    "    for word in words:\n",
    "        if word in model.wv:\n",
    "            embeddings += model.wv[word]\n",
    "            valid_words += 1\n",
    "    if valid_words > 0:\n",
    "        embeddings /= valid_words\n",
    "    return embeddings\n",
    "\n",
    "X_train_word2vec = np.array([get_word2vec_embeddings(doc, word2vec_model) for doc in train_data['content']])\n",
    "X_test_word2vec = np.array([get_word2vec_embeddings(doc, word2vec_model) for doc in test_data['content']])\n",
    "\n",
    "clf_word2vec = LogisticRegression(max_iter=1000, solver='saga', random_state=42, class_weight='balanced')\n",
    "clf_word2vec.fit(X_train_word2vec, Y_train_bond)\n",
    "\n",
    "y_test_pred_word2vec = clf_word2vec.predict(X_test_word2vec)\n",
    "y_test_proba_word2vec = clf_word2vec.predict_proba(X_test_word2vec)\n",
    "\n",
    "auroc_word2vec_bon = roc_auc_score(Y_test_bond, y_test_proba_word2vec, multi_class=\"ovr\")\n",
    "macro_f1_word2vec_bon = f1_score(Y_test_bond, y_test_pred_word2vec, average='macro')\n",
    "micro_f1_word2vec_bon = f1_score(Y_test_bond, y_test_pred_word2vec, average='micro')\n",
    "\n",
    "print(f\"Model: Word2Vec Representation with Bonded Rating\")\n",
    "print(f\"Validation AUROC: {auroc_word2vec_bon:.4f}\")\n",
    "print(f\"Validation Macro-F1: {macro_f1_word2vec_bon:.4f}\")\n",
    "print(f\"Validation Micro-F1: {micro_f1_word2vec_bon:.4f}\")\n",
    "print(\"-\" * 50)"
   ]
  },
  {
   "cell_type": "markdown",
   "metadata": {},
   "source": [
    "## Using bonded rating with thumbsUpCount feature"
   ]
  },
  {
   "cell_type": "code",
   "execution_count": 49,
   "metadata": {},
   "outputs": [
    {
     "name": "stderr",
     "output_type": "stream",
     "text": [
      "/opt/conda/lib/python3.11/site-packages/sklearn/linear_model/_sag.py:349: ConvergenceWarning: The max_iter was reached which means the coef_ did not converge\n",
      "  warnings.warn(\n"
     ]
    },
    {
     "name": "stdout",
     "output_type": "stream",
     "text": [
      "Model: Word2Vec Representation with Bonded Rating and ThumbsUpCount\n",
      "Validation AUROC: 0.7992\n",
      "Validation Macro-F1: 0.5811\n",
      "Validation Micro-F1: 0.6772\n",
      "--------------------------------------------------\n"
     ]
    }
   ],
   "source": [
    "def preprocess_text(text):\n",
    "    return pre_processing_by_nltk(text)\n",
    "\n",
    "sentences = [preprocess_text(doc) for doc in train_data['content']]\n",
    "word2vec_model = Word2Vec(sentences, vector_size=100, window=5, min_count=1, workers=4)\n",
    "\n",
    "def get_word2vec_embeddings(text, model, vector_size=100):\n",
    "    words = preprocess_text(text)\n",
    "    embeddings = np.zeros(vector_size)\n",
    "    valid_words = 0\n",
    "    for word in words:\n",
    "        if word in model.wv:\n",
    "            embeddings += model.wv[word]\n",
    "            valid_words += 1\n",
    "    if valid_words > 0:\n",
    "        embeddings /= valid_words\n",
    "    return embeddings\n",
    "\n",
    "X_train_word2vec = np.array([get_word2vec_embeddings(doc, word2vec_model) for doc in train_data['content']])\n",
    "X_test_word2vec = np.array([get_word2vec_embeddings(doc, word2vec_model) for doc in test_data['content']])\n",
    "\n",
    "X_train_word2vec = np.hstack((X_train_word2vec, train_thumbs.reshape(-1, 1)))\n",
    "X_test_word2vec = np.hstack((X_test_word2vec, test_thumbs.reshape(-1, 1)))\n",
    "\n",
    "clf_word2vec = LogisticRegression(max_iter=1000, solver='saga', random_state=42, class_weight='balanced')\n",
    "clf_word2vec.fit(X_train_word2vec, Y_train_bond)\n",
    "\n",
    "y_test_pred_word2vec = clf_word2vec.predict(X_test_word2vec)\n",
    "y_test_proba_word2vec = clf_word2vec.predict_proba(X_test_word2vec)\n",
    "\n",
    "auroc_word2vec_bon_thumb = roc_auc_score(Y_test_bond, y_test_proba_word2vec, multi_class=\"ovr\")\n",
    "macro_f1_word2vec_bon_thumb = f1_score(Y_test_bond, y_test_pred_word2vec, average='macro')\n",
    "micro_f1_word2vec_bon_thumb = f1_score(Y_test_bond, y_test_pred_word2vec, average='micro')\n",
    "\n",
    "print(f\"Model: Word2Vec Representation with Bonded Rating and ThumbsUpCount\")\n",
    "print(f\"Validation AUROC: {auroc_word2vec_bon_thumb:.4f}\")\n",
    "print(f\"Validation Macro-F1: {macro_f1_word2vec_bon_thumb:.4f}\")\n",
    "print(f\"Validation Micro-F1: {micro_f1_word2vec_bon_thumb:.4f}\")\n",
    "print(\"-\" * 50)"
   ]
  },
  {
   "cell_type": "code",
   "execution_count": null,
   "metadata": {},
   "outputs": [
    {
     "data": {
      "application/vnd.microsoft.datawrangler.viewer.v0+json": {
       "columns": [
        {
         "name": "index",
         "rawType": "int64",
         "type": "integer"
        },
        {
         "name": "Model",
         "rawType": "object",
         "type": "string"
        },
        {
         "name": "Embedding",
         "rawType": "object",
         "type": "string"
        },
        {
         "name": "Rating",
         "rawType": "object",
         "type": "string"
        },
        {
         "name": "AUROC",
         "rawType": "float64",
         "type": "float"
        },
        {
         "name": "Macro-F1",
         "rawType": "float64",
         "type": "float"
        },
        {
         "name": "Micro-F1",
         "rawType": "float64",
         "type": "float"
        }
       ],
       "conversionMethod": "pd.DataFrame",
       "ref": "d45bef8d-2b81-44a9-8cc6-706dcffad24e",
       "rows": [
        [
         "0",
         "Binary",
         "No Thumbs",
         "Original",
         "0.7891655405790792",
         "0.4582830484836922",
         "0.5586850208295598"
        ],
        [
         "1",
         "Binary",
         "No Thumbs",
         "Bond",
         "0.7858192450282983",
         "0.5677145277039712",
         "0.6510143090019924"
        ],
        [
         "2",
         "Binary",
         "With Thumbs",
         "Original",
         "0.791574722047897",
         "0.4594514189402238",
         "0.5646954201867497"
        ],
        [
         "3",
         "Binary",
         "With Thumbs",
         "Bond",
         "0.8384238605848662",
         "0.6272934932924333",
         "0.7252112049799911"
        ],
        [
         "4",
         "TF",
         "No Thumbs",
         "Original",
         "0.8029651649069475",
         "0.46834736833960744",
         "0.5647074805288897"
        ],
        [
         "5",
         "TF",
         "No Thumbs",
         "Bond",
         "0.7603100127238638",
         "0.5424422779215408",
         "0.6242075710921935"
        ],
        [
         "6",
         "TF",
         "With Thumbs",
         "Original",
         "0.804851995978896",
         "0.46736367928456435",
         "0.5677523343708315"
        ],
        [
         "7",
         "TF",
         "With Thumbs",
         "Bond",
         "0.849967839476161",
         "0.6346469507566729",
         "0.7217096487327701"
        ],
        [
         "8",
         "TF-IDF",
         "No Thumbs",
         "Original",
         "0.8075839605030322",
         "0.4653517315667891",
         "0.5573718529251948"
        ],
        [
         "9",
         "TF-IDF",
         "No Thumbs",
         "Bond",
         "0.7873596145475196",
         "0.5796445682231486",
         "0.6676326752399927"
        ],
        [
         "10",
         "TF-IDF",
         "With Thumbs",
         "Original",
         "0.8073467261017404",
         "0.4635562535342994",
         "0.5611382836816363"
        ],
        [
         "11",
         "TF-IDF",
         "With Thumbs",
         "Bond",
         "0.8533175749683183",
         "0.631745896955009",
         "0.7192085371276122"
        ],
        [
         "12",
         "Word2Vec",
         "No Thumbs",
         "Original",
         "0.7905049404435819",
         "0.44561195121362535",
         "0.5384894040934614"
        ],
        [
         "13",
         "Word2Vec",
         "With Thumbs",
         "Original",
         "0.7414080984623331",
         "0.39517507305801747",
         "0.5279387792066654"
        ],
        [
         "14",
         "Word2Vec",
         "No Thumbs",
         "Bond",
         "0.8397729612899272",
         "0.6185590906790107",
         "0.6941677232385437"
        ],
        [
         "15",
         "Word2Vec",
         "With Thumbs",
         "Bond",
         "0.7991995675916256",
         "0.5811021125725233",
         "0.6771871037855461"
        ]
       ],
       "shape": {
        "columns": 6,
        "rows": 16
       }
      },
      "text/html": [
       "<div>\n",
       "<style scoped>\n",
       "    .dataframe tbody tr th:only-of-type {\n",
       "        vertical-align: middle;\n",
       "    }\n",
       "\n",
       "    .dataframe tbody tr th {\n",
       "        vertical-align: top;\n",
       "    }\n",
       "\n",
       "    .dataframe thead th {\n",
       "        text-align: right;\n",
       "    }\n",
       "</style>\n",
       "<table border=\"1\" class=\"dataframe\">\n",
       "  <thead>\n",
       "    <tr style=\"text-align: right;\">\n",
       "      <th></th>\n",
       "      <th>Model</th>\n",
       "      <th>Embedding</th>\n",
       "      <th>Rating</th>\n",
       "      <th>AUROC</th>\n",
       "      <th>Macro-F1</th>\n",
       "      <th>Micro-F1</th>\n",
       "    </tr>\n",
       "  </thead>\n",
       "  <tbody>\n",
       "    <tr>\n",
       "      <th>0</th>\n",
       "      <td>Binary</td>\n",
       "      <td>No Thumbs</td>\n",
       "      <td>Original</td>\n",
       "      <td>0.789166</td>\n",
       "      <td>0.458283</td>\n",
       "      <td>0.558685</td>\n",
       "    </tr>\n",
       "    <tr>\n",
       "      <th>1</th>\n",
       "      <td>Binary</td>\n",
       "      <td>No Thumbs</td>\n",
       "      <td>Bond</td>\n",
       "      <td>0.785819</td>\n",
       "      <td>0.567715</td>\n",
       "      <td>0.651014</td>\n",
       "    </tr>\n",
       "    <tr>\n",
       "      <th>2</th>\n",
       "      <td>Binary</td>\n",
       "      <td>With Thumbs</td>\n",
       "      <td>Original</td>\n",
       "      <td>0.791575</td>\n",
       "      <td>0.459451</td>\n",
       "      <td>0.564695</td>\n",
       "    </tr>\n",
       "    <tr>\n",
       "      <th>3</th>\n",
       "      <td>Binary</td>\n",
       "      <td>With Thumbs</td>\n",
       "      <td>Bond</td>\n",
       "      <td>0.838424</td>\n",
       "      <td>0.627293</td>\n",
       "      <td>0.725211</td>\n",
       "    </tr>\n",
       "    <tr>\n",
       "      <th>4</th>\n",
       "      <td>TF</td>\n",
       "      <td>No Thumbs</td>\n",
       "      <td>Original</td>\n",
       "      <td>0.802965</td>\n",
       "      <td>0.468347</td>\n",
       "      <td>0.564707</td>\n",
       "    </tr>\n",
       "    <tr>\n",
       "      <th>5</th>\n",
       "      <td>TF</td>\n",
       "      <td>No Thumbs</td>\n",
       "      <td>Bond</td>\n",
       "      <td>0.760310</td>\n",
       "      <td>0.542442</td>\n",
       "      <td>0.624208</td>\n",
       "    </tr>\n",
       "    <tr>\n",
       "      <th>6</th>\n",
       "      <td>TF</td>\n",
       "      <td>With Thumbs</td>\n",
       "      <td>Original</td>\n",
       "      <td>0.804852</td>\n",
       "      <td>0.467364</td>\n",
       "      <td>0.567752</td>\n",
       "    </tr>\n",
       "    <tr>\n",
       "      <th>7</th>\n",
       "      <td>TF</td>\n",
       "      <td>With Thumbs</td>\n",
       "      <td>Bond</td>\n",
       "      <td>0.849968</td>\n",
       "      <td>0.634647</td>\n",
       "      <td>0.721710</td>\n",
       "    </tr>\n",
       "    <tr>\n",
       "      <th>8</th>\n",
       "      <td>TF-IDF</td>\n",
       "      <td>No Thumbs</td>\n",
       "      <td>Original</td>\n",
       "      <td>0.807584</td>\n",
       "      <td>0.465352</td>\n",
       "      <td>0.557372</td>\n",
       "    </tr>\n",
       "    <tr>\n",
       "      <th>9</th>\n",
       "      <td>TF-IDF</td>\n",
       "      <td>No Thumbs</td>\n",
       "      <td>Bond</td>\n",
       "      <td>0.787360</td>\n",
       "      <td>0.579645</td>\n",
       "      <td>0.667633</td>\n",
       "    </tr>\n",
       "    <tr>\n",
       "      <th>10</th>\n",
       "      <td>TF-IDF</td>\n",
       "      <td>With Thumbs</td>\n",
       "      <td>Original</td>\n",
       "      <td>0.807347</td>\n",
       "      <td>0.463556</td>\n",
       "      <td>0.561138</td>\n",
       "    </tr>\n",
       "    <tr>\n",
       "      <th>11</th>\n",
       "      <td>TF-IDF</td>\n",
       "      <td>With Thumbs</td>\n",
       "      <td>Bond</td>\n",
       "      <td>0.853318</td>\n",
       "      <td>0.631746</td>\n",
       "      <td>0.719209</td>\n",
       "    </tr>\n",
       "    <tr>\n",
       "      <th>12</th>\n",
       "      <td>Word2Vec</td>\n",
       "      <td>No Thumbs</td>\n",
       "      <td>Original</td>\n",
       "      <td>0.790505</td>\n",
       "      <td>0.445612</td>\n",
       "      <td>0.538489</td>\n",
       "    </tr>\n",
       "    <tr>\n",
       "      <th>13</th>\n",
       "      <td>Word2Vec</td>\n",
       "      <td>With Thumbs</td>\n",
       "      <td>Original</td>\n",
       "      <td>0.741408</td>\n",
       "      <td>0.395175</td>\n",
       "      <td>0.527939</td>\n",
       "    </tr>\n",
       "    <tr>\n",
       "      <th>14</th>\n",
       "      <td>Word2Vec</td>\n",
       "      <td>No Thumbs</td>\n",
       "      <td>Bond</td>\n",
       "      <td>0.839773</td>\n",
       "      <td>0.618559</td>\n",
       "      <td>0.694168</td>\n",
       "    </tr>\n",
       "    <tr>\n",
       "      <th>15</th>\n",
       "      <td>Word2Vec</td>\n",
       "      <td>With Thumbs</td>\n",
       "      <td>Bond</td>\n",
       "      <td>0.799200</td>\n",
       "      <td>0.581102</td>\n",
       "      <td>0.677187</td>\n",
       "    </tr>\n",
       "  </tbody>\n",
       "</table>\n",
       "</div>"
      ],
      "text/plain": [
       "       Model    Embedding    Rating     AUROC  Macro-F1  Micro-F1\n",
       "0     Binary    No Thumbs  Original  0.789166  0.458283  0.558685\n",
       "1     Binary    No Thumbs      Bond  0.785819  0.567715  0.651014\n",
       "2     Binary  With Thumbs  Original  0.791575  0.459451  0.564695\n",
       "3     Binary  With Thumbs      Bond  0.838424  0.627293  0.725211\n",
       "4         TF    No Thumbs  Original  0.802965  0.468347  0.564707\n",
       "5         TF    No Thumbs      Bond  0.760310  0.542442  0.624208\n",
       "6         TF  With Thumbs  Original  0.804852  0.467364  0.567752\n",
       "7         TF  With Thumbs      Bond  0.849968  0.634647  0.721710\n",
       "8     TF-IDF    No Thumbs  Original  0.807584  0.465352  0.557372\n",
       "9     TF-IDF    No Thumbs      Bond  0.787360  0.579645  0.667633\n",
       "10    TF-IDF  With Thumbs  Original  0.807347  0.463556  0.561138\n",
       "11    TF-IDF  With Thumbs      Bond  0.853318  0.631746  0.719209\n",
       "12  Word2Vec    No Thumbs  Original  0.790505  0.445612  0.538489\n",
       "13  Word2Vec  With Thumbs  Original  0.741408  0.395175  0.527939\n",
       "14  Word2Vec    No Thumbs      Bond  0.839773  0.618559  0.694168\n",
       "15  Word2Vec  With Thumbs      Bond  0.799200  0.581102  0.677187"
      ]
     },
     "execution_count": 50,
     "metadata": {},
     "output_type": "execute_result"
    }
   ],
   "source": [
    "\n",
    "word2vec_results = pd.DataFrame({\n",
    "    'Model': ['Word2Vec', 'Word2Vec', 'Word2Vec', 'Word2Vec'],\n",
    "    'Embedding': ['No Thumbs', 'With Thumbs', 'No Thumbs', 'With Thumbs'],\n",
    "    'Rating': ['Original', 'Original', 'Bond', 'Bond'],\n",
    "    'AUROC': [auroc_word2vec_or, auroc_word2vec_or_thumb, auroc_word2vec_bon, auroc_word2vec_bon_thumb],\n",
    "    'Macro-F1': [macro_f1_word2vec_or, macro_f1_word2vec_or_thumb, macro_f1_word2vec_bon, macro_f1_word2vec_bon_thumb],\n",
    "    'Micro-F1': [micro_f1_word2vec_or, micro_f1_word2vec_or_thumb, micro_f1_word2vec_bon, micro_f1_word2vec_bon_thumb]\n",
    "})\n",
    "\n",
    "\n",
    "new_compare_table = pd.concat([compare_table, word2vec_results], ignore_index=True)\n",
    "\n",
    "new_compare_table"
   ]
  },
  {
   "cell_type": "code",
   "execution_count": null,
   "metadata": {},
   "outputs": [
    {
     "data": {
      "application/vnd.microsoft.datawrangler.viewer.v0+json": {
       "columns": [
        {
         "name": "index",
         "rawType": "int64",
         "type": "integer"
        },
        {
         "name": "Model",
         "rawType": "object",
         "type": "string"
        },
        {
         "name": "Embedding",
         "rawType": "object",
         "type": "string"
        },
        {
         "name": "Rating",
         "rawType": "object",
         "type": "string"
        },
        {
         "name": "AUROC",
         "rawType": "float64",
         "type": "float"
        },
        {
         "name": "Macro-F1",
         "rawType": "float64",
         "type": "float"
        },
        {
         "name": "Micro-F1",
         "rawType": "float64",
         "type": "float"
        }
       ],
       "conversionMethod": "pd.DataFrame",
       "ref": "9aa865bf-cb06-4049-b75e-f69adc0e6c8e",
       "rows": [
        [
         "0",
         "Binary",
         "No Thumbs",
         "Original",
         "0.789",
         "0.458",
         "0.559"
        ],
        [
         "1",
         "Binary",
         "No Thumbs",
         "Bond",
         "0.786",
         "0.568",
         "0.651"
        ],
        [
         "2",
         "Binary",
         "With Thumbs",
         "Original",
         "0.792",
         "0.459",
         "0.565"
        ],
        [
         "3",
         "Binary",
         "With Thumbs",
         "Bond",
         "0.838",
         "0.627",
         "0.725"
        ],
        [
         "4",
         "TF",
         "No Thumbs",
         "Original",
         "0.803",
         "0.468",
         "0.565"
        ],
        [
         "5",
         "TF",
         "No Thumbs",
         "Bond",
         "0.76",
         "0.542",
         "0.624"
        ],
        [
         "6",
         "TF",
         "With Thumbs",
         "Original",
         "0.805",
         "0.467",
         "0.568"
        ],
        [
         "7",
         "TF",
         "With Thumbs",
         "Bond",
         "0.85",
         "0.635",
         "0.722"
        ],
        [
         "8",
         "TF-IDF",
         "No Thumbs",
         "Original",
         "0.808",
         "0.465",
         "0.557"
        ],
        [
         "9",
         "TF-IDF",
         "No Thumbs",
         "Bond",
         "0.787",
         "0.58",
         "0.668"
        ],
        [
         "10",
         "TF-IDF",
         "With Thumbs",
         "Original",
         "0.807",
         "0.464",
         "0.561"
        ],
        [
         "11",
         "TF-IDF",
         "With Thumbs",
         "Bond",
         "0.853",
         "0.632",
         "0.719"
        ],
        [
         "12",
         "Word2Vec",
         "No Thumbs",
         "Original",
         "0.791",
         "0.446",
         "0.538"
        ],
        [
         "13",
         "Word2Vec",
         "With Thumbs",
         "Original",
         "0.741",
         "0.395",
         "0.528"
        ],
        [
         "14",
         "Word2Vec",
         "No Thumbs",
         "Bond",
         "0.84",
         "0.619",
         "0.694"
        ],
        [
         "15",
         "Word2Vec",
         "With Thumbs",
         "Bond",
         "0.799",
         "0.581",
         "0.677"
        ]
       ],
       "shape": {
        "columns": 6,
        "rows": 16
       }
      },
      "text/html": [
       "<div>\n",
       "<style scoped>\n",
       "    .dataframe tbody tr th:only-of-type {\n",
       "        vertical-align: middle;\n",
       "    }\n",
       "\n",
       "    .dataframe tbody tr th {\n",
       "        vertical-align: top;\n",
       "    }\n",
       "\n",
       "    .dataframe thead th {\n",
       "        text-align: right;\n",
       "    }\n",
       "</style>\n",
       "<table border=\"1\" class=\"dataframe\">\n",
       "  <thead>\n",
       "    <tr style=\"text-align: right;\">\n",
       "      <th></th>\n",
       "      <th>Model</th>\n",
       "      <th>Embedding</th>\n",
       "      <th>Rating</th>\n",
       "      <th>AUROC</th>\n",
       "      <th>Macro-F1</th>\n",
       "      <th>Micro-F1</th>\n",
       "    </tr>\n",
       "  </thead>\n",
       "  <tbody>\n",
       "    <tr>\n",
       "      <th>0</th>\n",
       "      <td>Binary</td>\n",
       "      <td>No Thumbs</td>\n",
       "      <td>Original</td>\n",
       "      <td>0.789</td>\n",
       "      <td>0.458</td>\n",
       "      <td>0.559</td>\n",
       "    </tr>\n",
       "    <tr>\n",
       "      <th>1</th>\n",
       "      <td>Binary</td>\n",
       "      <td>No Thumbs</td>\n",
       "      <td>Bond</td>\n",
       "      <td>0.786</td>\n",
       "      <td>0.568</td>\n",
       "      <td>0.651</td>\n",
       "    </tr>\n",
       "    <tr>\n",
       "      <th>2</th>\n",
       "      <td>Binary</td>\n",
       "      <td>With Thumbs</td>\n",
       "      <td>Original</td>\n",
       "      <td>0.792</td>\n",
       "      <td>0.459</td>\n",
       "      <td>0.565</td>\n",
       "    </tr>\n",
       "    <tr>\n",
       "      <th>3</th>\n",
       "      <td>Binary</td>\n",
       "      <td>With Thumbs</td>\n",
       "      <td>Bond</td>\n",
       "      <td>0.838</td>\n",
       "      <td>0.627</td>\n",
       "      <td>0.725</td>\n",
       "    </tr>\n",
       "    <tr>\n",
       "      <th>4</th>\n",
       "      <td>TF</td>\n",
       "      <td>No Thumbs</td>\n",
       "      <td>Original</td>\n",
       "      <td>0.803</td>\n",
       "      <td>0.468</td>\n",
       "      <td>0.565</td>\n",
       "    </tr>\n",
       "    <tr>\n",
       "      <th>5</th>\n",
       "      <td>TF</td>\n",
       "      <td>No Thumbs</td>\n",
       "      <td>Bond</td>\n",
       "      <td>0.760</td>\n",
       "      <td>0.542</td>\n",
       "      <td>0.624</td>\n",
       "    </tr>\n",
       "    <tr>\n",
       "      <th>6</th>\n",
       "      <td>TF</td>\n",
       "      <td>With Thumbs</td>\n",
       "      <td>Original</td>\n",
       "      <td>0.805</td>\n",
       "      <td>0.467</td>\n",
       "      <td>0.568</td>\n",
       "    </tr>\n",
       "    <tr>\n",
       "      <th>7</th>\n",
       "      <td>TF</td>\n",
       "      <td>With Thumbs</td>\n",
       "      <td>Bond</td>\n",
       "      <td>0.850</td>\n",
       "      <td>0.635</td>\n",
       "      <td>0.722</td>\n",
       "    </tr>\n",
       "    <tr>\n",
       "      <th>8</th>\n",
       "      <td>TF-IDF</td>\n",
       "      <td>No Thumbs</td>\n",
       "      <td>Original</td>\n",
       "      <td>0.808</td>\n",
       "      <td>0.465</td>\n",
       "      <td>0.557</td>\n",
       "    </tr>\n",
       "    <tr>\n",
       "      <th>9</th>\n",
       "      <td>TF-IDF</td>\n",
       "      <td>No Thumbs</td>\n",
       "      <td>Bond</td>\n",
       "      <td>0.787</td>\n",
       "      <td>0.580</td>\n",
       "      <td>0.668</td>\n",
       "    </tr>\n",
       "    <tr>\n",
       "      <th>10</th>\n",
       "      <td>TF-IDF</td>\n",
       "      <td>With Thumbs</td>\n",
       "      <td>Original</td>\n",
       "      <td>0.807</td>\n",
       "      <td>0.464</td>\n",
       "      <td>0.561</td>\n",
       "    </tr>\n",
       "    <tr>\n",
       "      <th>11</th>\n",
       "      <td>TF-IDF</td>\n",
       "      <td>With Thumbs</td>\n",
       "      <td>Bond</td>\n",
       "      <td>0.853</td>\n",
       "      <td>0.632</td>\n",
       "      <td>0.719</td>\n",
       "    </tr>\n",
       "    <tr>\n",
       "      <th>12</th>\n",
       "      <td>Word2Vec</td>\n",
       "      <td>No Thumbs</td>\n",
       "      <td>Original</td>\n",
       "      <td>0.791</td>\n",
       "      <td>0.446</td>\n",
       "      <td>0.538</td>\n",
       "    </tr>\n",
       "    <tr>\n",
       "      <th>13</th>\n",
       "      <td>Word2Vec</td>\n",
       "      <td>With Thumbs</td>\n",
       "      <td>Original</td>\n",
       "      <td>0.741</td>\n",
       "      <td>0.395</td>\n",
       "      <td>0.528</td>\n",
       "    </tr>\n",
       "    <tr>\n",
       "      <th>14</th>\n",
       "      <td>Word2Vec</td>\n",
       "      <td>No Thumbs</td>\n",
       "      <td>Bond</td>\n",
       "      <td>0.840</td>\n",
       "      <td>0.619</td>\n",
       "      <td>0.694</td>\n",
       "    </tr>\n",
       "    <tr>\n",
       "      <th>15</th>\n",
       "      <td>Word2Vec</td>\n",
       "      <td>With Thumbs</td>\n",
       "      <td>Bond</td>\n",
       "      <td>0.799</td>\n",
       "      <td>0.581</td>\n",
       "      <td>0.677</td>\n",
       "    </tr>\n",
       "  </tbody>\n",
       "</table>\n",
       "</div>"
      ],
      "text/plain": [
       "       Model    Embedding    Rating  AUROC  Macro-F1  Micro-F1\n",
       "0     Binary    No Thumbs  Original  0.789     0.458     0.559\n",
       "1     Binary    No Thumbs      Bond  0.786     0.568     0.651\n",
       "2     Binary  With Thumbs  Original  0.792     0.459     0.565\n",
       "3     Binary  With Thumbs      Bond  0.838     0.627     0.725\n",
       "4         TF    No Thumbs  Original  0.803     0.468     0.565\n",
       "5         TF    No Thumbs      Bond  0.760     0.542     0.624\n",
       "6         TF  With Thumbs  Original  0.805     0.467     0.568\n",
       "7         TF  With Thumbs      Bond  0.850     0.635     0.722\n",
       "8     TF-IDF    No Thumbs  Original  0.808     0.465     0.557\n",
       "9     TF-IDF    No Thumbs      Bond  0.787     0.580     0.668\n",
       "10    TF-IDF  With Thumbs  Original  0.807     0.464     0.561\n",
       "11    TF-IDF  With Thumbs      Bond  0.853     0.632     0.719\n",
       "12  Word2Vec    No Thumbs  Original  0.791     0.446     0.538\n",
       "13  Word2Vec  With Thumbs  Original  0.741     0.395     0.528\n",
       "14  Word2Vec    No Thumbs      Bond  0.840     0.619     0.694\n",
       "15  Word2Vec  With Thumbs      Bond  0.799     0.581     0.677"
      ]
     },
     "execution_count": 53,
     "metadata": {},
     "output_type": "execute_result"
    }
   ],
   "source": [
    "new_compare_table = new_compare_table.round(3)\n",
    "\n",
    "new_compare_table"
   ]
  },
  {
   "cell_type": "code",
   "execution_count": null,
   "metadata": {},
   "outputs": [
    {
     "data": {
      "image/png": "[encoded data removed]",
      "text/plain": [
       "<Figure size 600x400 with 1 Axes>"
      ]
     },
     "metadata": {},
     "output_type": "display_data"
    }
   ],
   "source": [
    "fig, ax = plt.subplots(figsize=(6, 4))\n",
    "\n",
    "ax.xaxis.set_visible(False)\n",
    "ax.yaxis.set_visible(False)\n",
    "ax.set_frame_on(False)\n",
    "\n",
    "table = ax.table(cellText=new_compare_table.values, colLabels=new_compare_table.columns, cellLoc='center', loc='center')\n",
    "\n",
    "table.auto_set_font_size(False)\n",
    "table.set_fontsize(10)\n",
    "table.scale(1.2, 1.2)\n",
    "\n",
    "col_widths = [0.1, 0.15, 0.1, 0.1, 0.1, 0.1]\n",
    "for i, width in enumerate(col_widths):\n",
    "    table.auto_set_column_width(i)\n",
    "    for cell in table.get_celld().values():\n",
    "        cell.set_width(width)\n",
    "\n",
    "plt.savefig('new_compare_table.png', bbox_inches='tight', dpi=300)\n",
    "plt.show()"
   ]
  },
  {
   "cell_type": "code",
   "execution_count": null,
   "metadata": {},
   "outputs": [
    {
     "data": {
      "image/png": "[encoded data removed]",
      "text/plain": [
       "<Figure size 1000x600 with 1 Axes>"
      ]
     },
     "metadata": {},
     "output_type": "display_data"
    }
   ],
   "source": [
    "fig, ax = plt.subplots(figsize=(10, 6))\n",
    "\n",
    "features = [\n",
    "    \"Word2Vec\",\n",
    "    \"Word2Vec + ThumbsUpCount\",\n",
    "    \"Word2Vec + Bonded Rating\",\n",
    "    \"Word2Vec + Bonded Rating + ThumbsUpCount\"\n",
    "]\n",
    "\n",
    "text_feature = [1, 1, 1, 1] \n",
    "thumbs_feature = [0, 1, 0, 1]  \n",
    "bond_feature = [0, 0, 1, 1] \n",
    "bar_width = 0.4\n",
    "x = np.arange(len(features))\n",
    "\n",
    "ax.bar(x, text_feature, bar_width, label=\"Word2Vec\", color=\"skyblue\")\n",
    "ax.bar(x, thumbs_feature, bar_width, bottom=text_feature, label=\"ThumbsUpCount\", color=\"lightcoral\")\n",
    "ax.bar(x, bond_feature, bar_width, bottom=np.array(text_feature) + np.array(thumbs_feature), label=\"Bonded Rating\", color=\"lightgreen\")\n",
    "\n",
    "ax.set_xticks(x)\n",
    "ax.set_xticklabels(features, rotation=20)\n",
    "ax.set_ylabel(\"Feature Inclusion (1 = Included)\")\n",
    "ax.set_title(\"Feature Comparison across Word2Vec-based Models\")\n",
    "ax.legend()\n",
    "ax.grid(axis=\"y\", linestyle=\"--\", alpha=0.7)\n",
    "\n",
    "plt.show()"
   ]
  },
  {
   "cell_type": "code",
   "execution_count": null,
   "metadata": {},
   "outputs": [
    {
     "data": {
      "image/png": "[encoded data removed]",
      "text/plain": [
       "<Figure size 1400x600 with 1 Axes>"
      ]
     },
     "metadata": {},
     "output_type": "display_data"
    },
    {
     "data": {
      "image/png": "[encoded data removed]",
      "text/plain": [
       "<Figure size 1400x600 with 1 Axes>"
      ]
     },
     "metadata": {},
     "output_type": "display_data"
    },
    {
     "data": {
      "image/png": "[encoded data removed]",
      "text/plain": [
       "<Figure size 1400x600 with 1 Axes>"
      ]
     },
     "metadata": {},
     "output_type": "display_data"
    }
   ],
   "source": [
    "plt.figure(figsize=(14, 6))\n",
    "plt.bar([f\"{model}_{embedding}_{rating}\" for model, embedding, rating in zip(new_compare_table['Model'], new_compare_table['Embedding'], new_compare_table['Rating'])], new_compare_table['AUROC'], color='skyblue')\n",
    "plt.xlabel('Model')\n",
    "plt.ylabel('AUROC')\n",
    "plt.title('AUROC Comparison')\n",
    "plt.xticks(rotation=90)\n",
    "plt.show()\n",
    "\n",
    "plt.figure(figsize=(14, 6))\n",
    "plt.bar([f\"{model}_{embedding}_{rating}\" for model, embedding, rating in zip(new_compare_table['Model'], new_compare_table['Embedding'], new_compare_table['Rating'])], new_compare_table['Macro-F1'], color='lightcoral')\n",
    "plt.xlabel('Model')\n",
    "plt.ylabel('Macro-F1')\n",
    "plt.title('Macro-F1 Comparison')\n",
    "plt.xticks(rotation=90)\n",
    "plt.show()\n",
    "\n",
    "plt.figure(figsize=(14, 6))\n",
    "plt.bar([f\"{model}_{embedding}_{rating}\" for model, embedding, rating in zip(new_compare_table['Model'], new_compare_table['Embedding'], new_compare_table['Rating'])], new_compare_table['Micro-F1'], color='gold')\n",
    "plt.xlabel('Model')\n",
    "plt.ylabel('Micro-F1')\n",
    "plt.title('Micro-F1 Comparison')\n",
    "plt.xticks(rotation=90)\n",
    "plt.show()"
   ]
  }
 ],
 "metadata": {
  "kernelspec": {
   "display_name": "base",
   "language": "python",
   "name": "python3"
  },
  "language_info": {
   "codemirror_mode": {
    "name": "ipython",
    "version": 3
   },
   "file_extension": ".py",
   "mimetype": "text/x-python",
   "name": "python",
   "nbconvert_exporter": "python",
   "pygments_lexer": "ipython3",
   "version": "3.11.9"
  }
 },
 "nbformat": 4,
 "nbformat_minor": 2
}
